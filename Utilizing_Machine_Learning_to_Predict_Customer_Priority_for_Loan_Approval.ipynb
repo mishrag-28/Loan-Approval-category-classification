{
  "nbformat": 4,
  "nbformat_minor": 0,
  "metadata": {
    "colab": {
      "provenance": []
    },
    "kernelspec": {
      "name": "python3",
      "display_name": "Python 3"
    },
    "language_info": {
      "name": "python"
    }
  },
  "cells": [
    {
      "cell_type": "code",
      "source": [
        "!jupyter nbconvert --to html /content/Utilizing_Machine_Learning_to_Predict_Customer_Priority_for_Loan_Approval.ipynb\n"
      ],
      "metadata": {
        "colab": {
          "base_uri": "https://localhost:8080/"
        },
        "id": "IIHtRg5uWHub",
        "outputId": "936dad3f-0bd1-4b09-9d29-181248603ec3"
      },
      "execution_count": 249,
      "outputs": [
        {
          "output_type": "stream",
          "name": "stdout",
          "text": [
            "[NbConvertApp] Converting notebook /content/Utilizing_Machine_Learning_to_Predict_Customer_Priority_for_Loan_Approval.ipynb to html\n",
            "[NbConvertApp] Writing 1004076 bytes to /content/Utilizing_Machine_Learning_to_Predict_Customer_Priority_for_Loan_Approval.html\n"
          ]
        }
      ]
    },
    {
      "cell_type": "markdown",
      "source": [
        "**Problem Statement**<br>We have Customers data and given those data we want to predict\n",
        "\n"
      ],
      "metadata": {
        "id": "vpbKWMV2cWp_"
      }
    },
    {
      "cell_type": "code",
      "source": [
        "from google.colab import drive\n",
        "drive.mount('/content/drive')"
      ],
      "metadata": {
        "colab": {
          "base_uri": "https://localhost:8080/",
          "height": 0
        },
        "id": "5tVJxza0bRP_",
        "outputId": "ed928277-a98a-4801-8769-58138b6e16d1"
      },
      "execution_count": 1,
      "outputs": [
        {
          "output_type": "stream",
          "name": "stdout",
          "text": [
            "Drive already mounted at /content/drive; to attempt to forcibly remount, call drive.mount(\"/content/drive\", force_remount=True).\n"
          ]
        }
      ]
    },
    {
      "cell_type": "code",
      "execution_count": 49,
      "metadata": {
        "id": "fahQXcrCcMNp"
      },
      "outputs": [],
      "source": [
        "import numpy as np\n",
        "import pandas as pd\n",
        "import matplotlib.pyplot as plt\n",
        "from sklearn.metrics import r2_score\n",
        "from scipy.stats import chi2_contingency\n",
        "from statsmodels.stats.outliers_influence import variance_inflation_factor\n",
        "from sklearn.model_selection import train_test_split\n",
        "from sklearn.ensemble import RandomForestClassifier\n",
        "from sklearn.metrics import accuracy_score, classification_report, precision_recall_fscore_support\n",
        "import warnings\n",
        "import os"
      ]
    },
    {
      "cell_type": "code",
      "source": [
        "a1 = pd.read_excel(\"/content/drive/MyDrive/Credit risk modelling/case_study1.xlsx\")\n",
        "a2 = pd.read_excel(\"/content/drive/MyDrive/Credit risk modelling/case_study2.xlsx\")\n"
      ],
      "metadata": {
        "id": "1QKZyeNbeuul"
      },
      "execution_count": 140,
      "outputs": []
    },
    {
      "cell_type": "code",
      "source": [
        "df1 = a1.copy()\n",
        "df2 = a2.copy()"
      ],
      "metadata": {
        "id": "bNH8EDN-euok"
      },
      "execution_count": 175,
      "outputs": []
    },
    {
      "cell_type": "code",
      "source": [
        "df2.columns"
      ],
      "metadata": {
        "colab": {
          "base_uri": "https://localhost:8080/",
          "height": 0
        },
        "id": "CJAVhGJrCZEB",
        "outputId": "d4b49545-c8c7-4ade-83bc-3549ebe1d9c8"
      },
      "execution_count": 176,
      "outputs": [
        {
          "output_type": "execute_result",
          "data": {
            "text/plain": [
              "Index(['PROSPECTID', 'time_since_recent_payment',\n",
              "       'time_since_first_deliquency', 'time_since_recent_deliquency',\n",
              "       'num_times_delinquent', 'max_delinquency_level',\n",
              "       'max_recent_level_of_deliq', 'num_deliq_6mts', 'num_deliq_12mts',\n",
              "       'num_deliq_6_12mts', 'max_deliq_6mts', 'max_deliq_12mts',\n",
              "       'num_times_30p_dpd', 'num_times_60p_dpd', 'num_std', 'num_std_6mts',\n",
              "       'num_std_12mts', 'num_sub', 'num_sub_6mts', 'num_sub_12mts', 'num_dbt',\n",
              "       'num_dbt_6mts', 'num_dbt_12mts', 'num_lss', 'num_lss_6mts',\n",
              "       'num_lss_12mts', 'recent_level_of_deliq', 'tot_enq', 'CC_enq',\n",
              "       'CC_enq_L6m', 'CC_enq_L12m', 'PL_enq', 'PL_enq_L6m', 'PL_enq_L12m',\n",
              "       'time_since_recent_enq', 'enq_L12m', 'enq_L6m', 'enq_L3m',\n",
              "       'MARITALSTATUS', 'EDUCATION', 'AGE', 'GENDER', 'NETMONTHLYINCOME',\n",
              "       'Time_With_Curr_Empr', 'pct_of_active_TLs_ever',\n",
              "       'pct_opened_TLs_L6m_of_L12m', 'pct_currentBal_all_TL', 'CC_utilization',\n",
              "       'CC_Flag', 'PL_utilization', 'PL_Flag', 'pct_PL_enq_L6m_of_L12m',\n",
              "       'pct_CC_enq_L6m_of_L12m', 'pct_PL_enq_L6m_of_ever',\n",
              "       'pct_CC_enq_L6m_of_ever', 'max_unsec_exposure_inPct', 'HL_Flag',\n",
              "       'GL_Flag', 'last_prod_enq2', 'first_prod_enq2', 'Credit_Score',\n",
              "       'Approved_Flag'],\n",
              "      dtype='object')"
            ]
          },
          "metadata": {},
          "execution_count": 176
        }
      ]
    },
    {
      "cell_type": "code",
      "source": [
        "df1 = df1.loc[df1['Age_Oldest_TL'] != -99999]"
      ],
      "metadata": {
        "id": "O8nj0cemeulG"
      },
      "execution_count": 178,
      "outputs": []
    },
    {
      "cell_type": "code",
      "source": [
        "columns_to_be_removed = []\n",
        "\n",
        "for i in df2.columns:\n",
        "    if df2.loc[df2[i] == -99999].shape[0] > 10000:\n",
        "        columns_to_be_removed .append(i)"
      ],
      "metadata": {
        "id": "FWzhX0bneuiH"
      },
      "execution_count": 179,
      "outputs": []
    },
    {
      "cell_type": "code",
      "source": [
        "columns_to_be_removed"
      ],
      "metadata": {
        "colab": {
          "base_uri": "https://localhost:8080/",
          "height": 0
        },
        "id": "cBKMubf5Etd6",
        "outputId": "5854c6b8-9db1-4fb9-b2d9-7ba89f324e4a"
      },
      "execution_count": 180,
      "outputs": [
        {
          "output_type": "execute_result",
          "data": {
            "text/plain": [
              "['time_since_first_deliquency',\n",
              " 'time_since_recent_deliquency',\n",
              " 'max_delinquency_level',\n",
              " 'max_deliq_6mts',\n",
              " 'max_deliq_12mts',\n",
              " 'CC_utilization',\n",
              " 'PL_utilization',\n",
              " 'max_unsec_exposure_inPct']"
            ]
          },
          "metadata": {},
          "execution_count": 180
        }
      ]
    },
    {
      "cell_type": "code",
      "source": [
        "df2 = df2.drop(columns_to_be_removed, axis =1)\n",
        "\n",
        "for i in df2.columns:\n",
        "    df2 = df2.loc[ df2[i] != -99999 ]"
      ],
      "metadata": {
        "id": "MOjQUUU9fSun"
      },
      "execution_count": 181,
      "outputs": []
    },
    {
      "cell_type": "code",
      "source": [
        "df2.columns"
      ],
      "metadata": {
        "colab": {
          "base_uri": "https://localhost:8080/",
          "height": 0
        },
        "id": "lW-ae6VmFsbA",
        "outputId": "1510d0f1-df92-4423-adbb-c90d46be6426"
      },
      "execution_count": 182,
      "outputs": [
        {
          "output_type": "execute_result",
          "data": {
            "text/plain": [
              "Index(['PROSPECTID', 'time_since_recent_payment', 'num_times_delinquent',\n",
              "       'max_recent_level_of_deliq', 'num_deliq_6mts', 'num_deliq_12mts',\n",
              "       'num_deliq_6_12mts', 'num_times_30p_dpd', 'num_times_60p_dpd',\n",
              "       'num_std', 'num_std_6mts', 'num_std_12mts', 'num_sub', 'num_sub_6mts',\n",
              "       'num_sub_12mts', 'num_dbt', 'num_dbt_6mts', 'num_dbt_12mts', 'num_lss',\n",
              "       'num_lss_6mts', 'num_lss_12mts', 'recent_level_of_deliq', 'tot_enq',\n",
              "       'CC_enq', 'CC_enq_L6m', 'CC_enq_L12m', 'PL_enq', 'PL_enq_L6m',\n",
              "       'PL_enq_L12m', 'time_since_recent_enq', 'enq_L12m', 'enq_L6m',\n",
              "       'enq_L3m', 'MARITALSTATUS', 'EDUCATION', 'AGE', 'GENDER',\n",
              "       'NETMONTHLYINCOME', 'Time_With_Curr_Empr', 'pct_of_active_TLs_ever',\n",
              "       'pct_opened_TLs_L6m_of_L12m', 'pct_currentBal_all_TL', 'CC_Flag',\n",
              "       'PL_Flag', 'pct_PL_enq_L6m_of_L12m', 'pct_CC_enq_L6m_of_L12m',\n",
              "       'pct_PL_enq_L6m_of_ever', 'pct_CC_enq_L6m_of_ever', 'HL_Flag',\n",
              "       'GL_Flag', 'last_prod_enq2', 'first_prod_enq2', 'Credit_Score',\n",
              "       'Approved_Flag'],\n",
              "      dtype='object')"
            ]
          },
          "metadata": {},
          "execution_count": 182
        }
      ]
    },
    {
      "cell_type": "code",
      "source": [
        "# Checking common column names\n",
        "for i in list(df1.columns):\n",
        "    if i in list(df2.columns):\n",
        "        print (i)\n"
      ],
      "metadata": {
        "colab": {
          "base_uri": "https://localhost:8080/",
          "height": 0
        },
        "id": "0EJPUueRfSrd",
        "outputId": "5268ebb6-5988-46f9-ce58-fbc1b8702673"
      },
      "execution_count": 183,
      "outputs": [
        {
          "output_type": "stream",
          "name": "stdout",
          "text": [
            "PROSPECTID\n"
          ]
        }
      ]
    },
    {
      "cell_type": "code",
      "source": [
        "# Merge the two dataframes, inner join so that no nulls are present\n",
        "df = pd. merge ( df1, df2, how ='inner', left_on = ['PROSPECTID'], right_on = ['PROSPECTID'] )"
      ],
      "metadata": {
        "id": "hH-HySkTfSo7"
      },
      "execution_count": 184,
      "outputs": []
    },
    {
      "cell_type": "code",
      "source": [
        "df.columns"
      ],
      "metadata": {
        "colab": {
          "base_uri": "https://localhost:8080/",
          "height": 0
        },
        "id": "j4UKBDR-CBwf",
        "outputId": "5d199096-603f-44c7-8aa4-d8f815d0ed3a"
      },
      "execution_count": 185,
      "outputs": [
        {
          "output_type": "execute_result",
          "data": {
            "text/plain": [
              "Index(['PROSPECTID', 'Total_TL', 'Tot_Closed_TL', 'Tot_Active_TL',\n",
              "       'Total_TL_opened_L6M', 'Tot_TL_closed_L6M', 'pct_tl_open_L6M',\n",
              "       'pct_tl_closed_L6M', 'pct_active_tl', 'pct_closed_tl',\n",
              "       'Total_TL_opened_L12M', 'Tot_TL_closed_L12M', 'pct_tl_open_L12M',\n",
              "       'pct_tl_closed_L12M', 'Tot_Missed_Pmnt', 'Auto_TL', 'CC_TL',\n",
              "       'Consumer_TL', 'Gold_TL', 'Home_TL', 'PL_TL', 'Secured_TL',\n",
              "       'Unsecured_TL', 'Other_TL', 'Age_Oldest_TL', 'Age_Newest_TL',\n",
              "       'time_since_recent_payment', 'num_times_delinquent',\n",
              "       'max_recent_level_of_deliq', 'num_deliq_6mts', 'num_deliq_12mts',\n",
              "       'num_deliq_6_12mts', 'num_times_30p_dpd', 'num_times_60p_dpd',\n",
              "       'num_std', 'num_std_6mts', 'num_std_12mts', 'num_sub', 'num_sub_6mts',\n",
              "       'num_sub_12mts', 'num_dbt', 'num_dbt_6mts', 'num_dbt_12mts', 'num_lss',\n",
              "       'num_lss_6mts', 'num_lss_12mts', 'recent_level_of_deliq', 'tot_enq',\n",
              "       'CC_enq', 'CC_enq_L6m', 'CC_enq_L12m', 'PL_enq', 'PL_enq_L6m',\n",
              "       'PL_enq_L12m', 'time_since_recent_enq', 'enq_L12m', 'enq_L6m',\n",
              "       'enq_L3m', 'MARITALSTATUS', 'EDUCATION', 'AGE', 'GENDER',\n",
              "       'NETMONTHLYINCOME', 'Time_With_Curr_Empr', 'pct_of_active_TLs_ever',\n",
              "       'pct_opened_TLs_L6m_of_L12m', 'pct_currentBal_all_TL', 'CC_Flag',\n",
              "       'PL_Flag', 'pct_PL_enq_L6m_of_L12m', 'pct_CC_enq_L6m_of_L12m',\n",
              "       'pct_PL_enq_L6m_of_ever', 'pct_CC_enq_L6m_of_ever', 'HL_Flag',\n",
              "       'GL_Flag', 'last_prod_enq2', 'first_prod_enq2', 'Credit_Score',\n",
              "       'Approved_Flag'],\n",
              "      dtype='object')"
            ]
          },
          "metadata": {},
          "execution_count": 185
        }
      ]
    },
    {
      "cell_type": "code",
      "source": [
        "# check how many columns are categorical\n",
        "for i in df.columns:\n",
        "    if df[i].dtype == 'object':\n",
        "        print(i)"
      ],
      "metadata": {
        "colab": {
          "base_uri": "https://localhost:8080/",
          "height": 0
        },
        "id": "cFpQGYfCfSl4",
        "outputId": "474a50a5-80ab-4391-9627-100b61a4d3d0"
      },
      "execution_count": 186,
      "outputs": [
        {
          "output_type": "stream",
          "name": "stdout",
          "text": [
            "MARITALSTATUS\n",
            "EDUCATION\n",
            "GENDER\n",
            "last_prod_enq2\n",
            "first_prod_enq2\n",
            "Approved_Flag\n"
          ]
        }
      ]
    },
    {
      "cell_type": "code",
      "source": [
        "# Chi-square test\n",
        "for i in ['MARITALSTATUS', 'EDUCATION', 'GENDER', 'last_prod_enq2', 'first_prod_enq2']:\n",
        "    chi2, pval, _, _ = chi2_contingency(pd.crosstab(df[i], df['Approved_Flag']))\n",
        "    print(i, '---', pval)\n"
      ],
      "metadata": {
        "colab": {
          "base_uri": "https://localhost:8080/",
          "height": 0
        },
        "id": "t6CSX8zofSbL",
        "outputId": "232f57df-90e8-406f-c374-7057cd8e7012"
      },
      "execution_count": 187,
      "outputs": [
        {
          "output_type": "stream",
          "name": "stdout",
          "text": [
            "MARITALSTATUS --- 3.578180861038862e-233\n",
            "EDUCATION --- 2.6942265249737532e-30\n",
            "GENDER --- 1.907936100186563e-05\n",
            "last_prod_enq2 --- 0.0\n",
            "first_prod_enq2 --- 7.84997610555419e-287\n"
          ]
        }
      ]
    },
    {
      "cell_type": "markdown",
      "source": [
        "Since all the categorical features have pval <=0.05, we will accept all"
      ],
      "metadata": {
        "id": "gXukclZlfq3g"
      }
    },
    {
      "cell_type": "code",
      "source": [
        "# VIF for numerical columns\n",
        "numeric_columns = []\n",
        "for i in df.columns:\n",
        "    if df[i].dtype != 'object' and i not in ['PROSPECTID','Approved_Flag']:\n",
        "        numeric_columns.append(i)\n"
      ],
      "metadata": {
        "id": "sGjE3mBPfSYF"
      },
      "execution_count": 188,
      "outputs": []
    },
    {
      "cell_type": "code",
      "source": [
        "df.columns"
      ],
      "metadata": {
        "colab": {
          "base_uri": "https://localhost:8080/",
          "height": 0
        },
        "id": "nKp2YSL0IHOt",
        "outputId": "c935bf30-78ed-4a22-fc72-26266d8da8df"
      },
      "execution_count": 189,
      "outputs": [
        {
          "output_type": "execute_result",
          "data": {
            "text/plain": [
              "Index(['PROSPECTID', 'Total_TL', 'Tot_Closed_TL', 'Tot_Active_TL',\n",
              "       'Total_TL_opened_L6M', 'Tot_TL_closed_L6M', 'pct_tl_open_L6M',\n",
              "       'pct_tl_closed_L6M', 'pct_active_tl', 'pct_closed_tl',\n",
              "       'Total_TL_opened_L12M', 'Tot_TL_closed_L12M', 'pct_tl_open_L12M',\n",
              "       'pct_tl_closed_L12M', 'Tot_Missed_Pmnt', 'Auto_TL', 'CC_TL',\n",
              "       'Consumer_TL', 'Gold_TL', 'Home_TL', 'PL_TL', 'Secured_TL',\n",
              "       'Unsecured_TL', 'Other_TL', 'Age_Oldest_TL', 'Age_Newest_TL',\n",
              "       'time_since_recent_payment', 'num_times_delinquent',\n",
              "       'max_recent_level_of_deliq', 'num_deliq_6mts', 'num_deliq_12mts',\n",
              "       'num_deliq_6_12mts', 'num_times_30p_dpd', 'num_times_60p_dpd',\n",
              "       'num_std', 'num_std_6mts', 'num_std_12mts', 'num_sub', 'num_sub_6mts',\n",
              "       'num_sub_12mts', 'num_dbt', 'num_dbt_6mts', 'num_dbt_12mts', 'num_lss',\n",
              "       'num_lss_6mts', 'num_lss_12mts', 'recent_level_of_deliq', 'tot_enq',\n",
              "       'CC_enq', 'CC_enq_L6m', 'CC_enq_L12m', 'PL_enq', 'PL_enq_L6m',\n",
              "       'PL_enq_L12m', 'time_since_recent_enq', 'enq_L12m', 'enq_L6m',\n",
              "       'enq_L3m', 'MARITALSTATUS', 'EDUCATION', 'AGE', 'GENDER',\n",
              "       'NETMONTHLYINCOME', 'Time_With_Curr_Empr', 'pct_of_active_TLs_ever',\n",
              "       'pct_opened_TLs_L6m_of_L12m', 'pct_currentBal_all_TL', 'CC_Flag',\n",
              "       'PL_Flag', 'pct_PL_enq_L6m_of_L12m', 'pct_CC_enq_L6m_of_L12m',\n",
              "       'pct_PL_enq_L6m_of_ever', 'pct_CC_enq_L6m_of_ever', 'HL_Flag',\n",
              "       'GL_Flag', 'last_prod_enq2', 'first_prod_enq2', 'Credit_Score',\n",
              "       'Approved_Flag'],\n",
              "      dtype='object')"
            ]
          },
          "metadata": {},
          "execution_count": 189
        }
      ]
    },
    {
      "cell_type": "code",
      "source": [
        "numeric_columns"
      ],
      "metadata": {
        "colab": {
          "base_uri": "https://localhost:8080/",
          "height": 0
        },
        "id": "Pj7qCyZ2IuG1",
        "outputId": "b5eb3a46-d100-4c51-86da-462e06de30a7"
      },
      "execution_count": 190,
      "outputs": [
        {
          "output_type": "execute_result",
          "data": {
            "text/plain": [
              "['Total_TL',\n",
              " 'Tot_Closed_TL',\n",
              " 'Tot_Active_TL',\n",
              " 'Total_TL_opened_L6M',\n",
              " 'Tot_TL_closed_L6M',\n",
              " 'pct_tl_open_L6M',\n",
              " 'pct_tl_closed_L6M',\n",
              " 'pct_active_tl',\n",
              " 'pct_closed_tl',\n",
              " 'Total_TL_opened_L12M',\n",
              " 'Tot_TL_closed_L12M',\n",
              " 'pct_tl_open_L12M',\n",
              " 'pct_tl_closed_L12M',\n",
              " 'Tot_Missed_Pmnt',\n",
              " 'Auto_TL',\n",
              " 'CC_TL',\n",
              " 'Consumer_TL',\n",
              " 'Gold_TL',\n",
              " 'Home_TL',\n",
              " 'PL_TL',\n",
              " 'Secured_TL',\n",
              " 'Unsecured_TL',\n",
              " 'Other_TL',\n",
              " 'Age_Oldest_TL',\n",
              " 'Age_Newest_TL',\n",
              " 'time_since_recent_payment',\n",
              " 'num_times_delinquent',\n",
              " 'max_recent_level_of_deliq',\n",
              " 'num_deliq_6mts',\n",
              " 'num_deliq_12mts',\n",
              " 'num_deliq_6_12mts',\n",
              " 'num_times_30p_dpd',\n",
              " 'num_times_60p_dpd',\n",
              " 'num_std',\n",
              " 'num_std_6mts',\n",
              " 'num_std_12mts',\n",
              " 'num_sub',\n",
              " 'num_sub_6mts',\n",
              " 'num_sub_12mts',\n",
              " 'num_dbt',\n",
              " 'num_dbt_6mts',\n",
              " 'num_dbt_12mts',\n",
              " 'num_lss',\n",
              " 'num_lss_6mts',\n",
              " 'num_lss_12mts',\n",
              " 'recent_level_of_deliq',\n",
              " 'tot_enq',\n",
              " 'CC_enq',\n",
              " 'CC_enq_L6m',\n",
              " 'CC_enq_L12m',\n",
              " 'PL_enq',\n",
              " 'PL_enq_L6m',\n",
              " 'PL_enq_L12m',\n",
              " 'time_since_recent_enq',\n",
              " 'enq_L12m',\n",
              " 'enq_L6m',\n",
              " 'enq_L3m',\n",
              " 'AGE',\n",
              " 'NETMONTHLYINCOME',\n",
              " 'Time_With_Curr_Empr',\n",
              " 'pct_of_active_TLs_ever',\n",
              " 'pct_opened_TLs_L6m_of_L12m',\n",
              " 'pct_currentBal_all_TL',\n",
              " 'CC_Flag',\n",
              " 'PL_Flag',\n",
              " 'pct_PL_enq_L6m_of_L12m',\n",
              " 'pct_CC_enq_L6m_of_L12m',\n",
              " 'pct_PL_enq_L6m_of_ever',\n",
              " 'pct_CC_enq_L6m_of_ever',\n",
              " 'HL_Flag',\n",
              " 'GL_Flag',\n",
              " 'Credit_Score']"
            ]
          },
          "metadata": {},
          "execution_count": 190
        }
      ]
    },
    {
      "cell_type": "code",
      "source": [
        "len(numeric_columns)"
      ],
      "metadata": {
        "colab": {
          "base_uri": "https://localhost:8080/",
          "height": 0
        },
        "id": "W-mhMXr3JWGy",
        "outputId": "69f60aae-f308-4fe4-bc67-ead02419798a"
      },
      "execution_count": 191,
      "outputs": [
        {
          "output_type": "execute_result",
          "data": {
            "text/plain": [
              "72"
            ]
          },
          "metadata": {},
          "execution_count": 191
        }
      ]
    },
    {
      "cell_type": "code",
      "source": [
        "# VIF sequentially check\n",
        "\n",
        "vif_data = df[numeric_columns]\n",
        "total_columns = vif_data.shape[1]"
      ],
      "metadata": {
        "id": "JGDpI1VqfSSf"
      },
      "execution_count": 204,
      "outputs": []
    },
    {
      "cell_type": "code",
      "source": [
        "vif_data.shape"
      ],
      "metadata": {
        "colab": {
          "base_uri": "https://localhost:8080/",
          "height": 0
        },
        "id": "BoXlj2ZOMql2",
        "outputId": "8683d7e4-4d8b-4ee5-f9fa-80097a08a07d"
      },
      "execution_count": 205,
      "outputs": [
        {
          "output_type": "execute_result",
          "data": {
            "text/plain": [
              "(42064, 72)"
            ]
          },
          "metadata": {},
          "execution_count": 205
        }
      ]
    },
    {
      "cell_type": "code",
      "source": [
        "total_columns"
      ],
      "metadata": {
        "colab": {
          "base_uri": "https://localhost:8080/",
          "height": 0
        },
        "id": "vWG7n-4eMT5x",
        "outputId": "c410c6cc-0f4f-4ce3-d0ce-c65a5632d60d"
      },
      "execution_count": 206,
      "outputs": [
        {
          "output_type": "execute_result",
          "data": {
            "text/plain": [
              "72"
            ]
          },
          "metadata": {},
          "execution_count": 206
        }
      ]
    },
    {
      "cell_type": "code",
      "source": [
        "len(list(vif_data.columns))"
      ],
      "metadata": {
        "colab": {
          "base_uri": "https://localhost:8080/",
          "height": 0
        },
        "id": "-nxGMNQ2LxCN",
        "outputId": "b3c31894-d083-4d2b-d420-416cddd5f702"
      },
      "execution_count": 195,
      "outputs": [
        {
          "output_type": "execute_result",
          "data": {
            "text/plain": [
              "72"
            ]
          },
          "metadata": {},
          "execution_count": 195
        }
      ]
    },
    {
      "cell_type": "code",
      "source": [
        "vif_data.shape"
      ],
      "metadata": {
        "colab": {
          "base_uri": "https://localhost:8080/",
          "height": 0
        },
        "id": "SPiGzurTN5yN",
        "outputId": "e1842cb9-b4bb-4efe-d304-f1f1a9a4a2d0"
      },
      "execution_count": 207,
      "outputs": [
        {
          "output_type": "execute_result",
          "data": {
            "text/plain": [
              "(42064, 72)"
            ]
          },
          "metadata": {},
          "execution_count": 207
        }
      ]
    },
    {
      "cell_type": "code",
      "source": [
        "vif_data.iloc[:,44].head()"
      ],
      "metadata": {
        "colab": {
          "base_uri": "https://localhost:8080/",
          "height": 0
        },
        "id": "lFu-e3Z1NLbS",
        "outputId": "5882e002-689e-44e1-e972-62021a4fb31d"
      },
      "execution_count": 202,
      "outputs": [
        {
          "output_type": "execute_result",
          "data": {
            "text/plain": [
              "0    0\n",
              "1    0\n",
              "2    0\n",
              "3    0\n",
              "4    0\n",
              "Name: GL_Flag, dtype: int64"
            ]
          },
          "metadata": {},
          "execution_count": 202
        }
      ]
    },
    {
      "cell_type": "code",
      "source": [
        "columns_to_be_kept = []\n",
        "# column_index = 0\n",
        "for i in range (0,total_columns):\n",
        "\n",
        "    vif_value = variance_inflation_factor(vif_data, i)\n",
        "    print (numeric_columns[i],'---',vif_value)\n",
        "\n",
        "\n",
        "    if vif_value <= 6:\n",
        "        columns_to_be_kept.append( numeric_columns[i] )\n",
        "        # column_index = column_index+1\n",
        "\n",
        "    # else:\n",
        "    #     vif_data = vif_data.drop([ numeric_columns[i] ] , axis=1)"
      ],
      "metadata": {
        "colab": {
          "base_uri": "https://localhost:8080/"
        },
        "id": "H2F6TOxVKTZh",
        "outputId": "dcba34ea-5bbb-45e4-a3af-4a29391b9885"
      },
      "execution_count": 250,
      "outputs": [
        {
          "output_type": "stream",
          "name": "stderr",
          "text": [
            "/usr/local/lib/python3.10/dist-packages/statsmodels/stats/outliers_influence.py:197: RuntimeWarning: divide by zero encountered in scalar divide\n",
            "  vif = 1. / (1. - r_squared_i)\n"
          ]
        },
        {
          "output_type": "stream",
          "name": "stdout",
          "text": [
            "Total_TL --- inf\n",
            "Tot_Closed_TL --- inf\n",
            "Tot_Active_TL --- inf\n",
            "Total_TL_opened_L6M --- 8.386094184170583\n",
            "Tot_TL_closed_L6M --- 6.822916488054288\n",
            "pct_tl_open_L6M --- 5.344199901464055\n",
            "pct_tl_closed_L6M --- 4.223442800730588\n",
            "pct_active_tl --- inf\n",
            "pct_closed_tl --- 1788.95771490895\n",
            "Total_TL_opened_L12M --- 15.200137933469819\n",
            "Tot_TL_closed_L12M --- 9.04461770639665\n",
            "pct_tl_open_L12M --- 4.010090259815417\n",
            "pct_tl_closed_L12M --- 4.946701307359741\n",
            "Tot_Missed_Pmnt --- 2.320169553908582\n",
            "Auto_TL --- inf\n",
            "CC_TL --- inf\n",
            "Consumer_TL --- inf\n",
            "Gold_TL --- inf\n",
            "Home_TL --- inf\n",
            "PL_TL --- inf\n",
            "Secured_TL --- inf\n",
            "Unsecured_TL --- inf\n",
            "Other_TL --- inf\n",
            "Age_Oldest_TL --- 3.996658973882458\n",
            "Age_Newest_TL --- 3.941328103385365\n",
            "time_since_recent_payment --- 2.735596362883497\n",
            "num_times_delinquent --- 6.961314467465793\n",
            "max_recent_level_of_deliq --- 4.938757627655762\n",
            "num_deliq_6mts --- inf\n",
            "num_deliq_12mts --- inf\n",
            "num_deliq_6_12mts --- inf\n",
            "num_times_30p_dpd --- 12.754547497478866\n",
            "num_times_60p_dpd --- 7.664123029753485\n",
            "num_std --- 6.319428106041947\n",
            "num_std_6mts --- 14.347518490310245\n",
            "num_std_12mts --- 22.676698796484057\n",
            "num_sub --- 1.5010221873810488\n",
            "num_sub_6mts --- 2.172949199956571\n",
            "num_sub_12mts --- 2.623042895714875\n",
            "num_dbt --- 2.295097535327129\n",
            "num_dbt_6mts --- 7.359834228686892\n",
            "num_dbt_12mts --- 9.477320189403187\n",
            "num_lss --- 2.870099010662577\n",
            "num_lss_6mts --- 6.530587744367461\n",
            "num_lss_12mts --- 8.17123853407956\n",
            "recent_level_of_deliq --- 4.534516024973477\n",
            "tot_enq --- 12.066242728970048\n",
            "CC_enq --- 7.237096207319045\n",
            "CC_enq_L6m --- 8.504957073040305\n",
            "CC_enq_L12m --- 11.264651252660999\n",
            "PL_enq --- 9.190204085326448\n",
            "PL_enq_L6m --- 11.584674563541041\n",
            "PL_enq_L12m --- 16.336597728333516\n",
            "time_since_recent_enq --- 1.6244221107667483\n",
            "enq_L12m --- 24.88092030903539\n",
            "enq_L6m --- 21.95563648101199\n",
            "enq_L3m --- 6.602898858366662\n",
            "AGE --- 1.413033398166406\n",
            "NETMONTHLYINCOME --- 1.0540693496700553\n",
            "Time_With_Curr_Empr --- 1.2695488615733628\n",
            "pct_of_active_TLs_ever --- inf\n",
            "pct_opened_TLs_L6m_of_L12m --- 5.099673429716455\n",
            "pct_currentBal_all_TL --- 1.0010582532731882\n",
            "CC_Flag --- 2.8740910946906078\n",
            "PL_Flag --- 2.3308420662684894\n",
            "pct_PL_enq_L6m_of_L12m --- 18.5881743615537\n",
            "pct_CC_enq_L6m_of_L12m --- 17.616378665998052\n",
            "pct_PL_enq_L6m_of_ever --- 18.10774635412635\n",
            "pct_CC_enq_L6m_of_ever --- 15.98081487803595\n",
            "HL_Flag --- 1.7911877965083913\n",
            "GL_Flag --- 4.1038183846159315\n",
            "Credit_Score --- 5.628654801680875\n"
          ]
        }
      ]
    },
    {
      "cell_type": "code",
      "source": [
        "columns_to_be_kept"
      ],
      "metadata": {
        "colab": {
          "base_uri": "https://localhost:8080/",
          "height": 0
        },
        "id": "_0CztRoOHDtv",
        "outputId": "80956b9f-9285-4b96-977c-fb21b70dd02e"
      },
      "execution_count": 209,
      "outputs": [
        {
          "output_type": "execute_result",
          "data": {
            "text/plain": [
              "['pct_tl_open_L6M',\n",
              " 'pct_tl_closed_L6M',\n",
              " 'pct_tl_open_L12M',\n",
              " 'pct_tl_closed_L12M',\n",
              " 'Tot_Missed_Pmnt',\n",
              " 'Age_Oldest_TL',\n",
              " 'Age_Newest_TL',\n",
              " 'time_since_recent_payment',\n",
              " 'max_recent_level_of_deliq',\n",
              " 'num_sub',\n",
              " 'num_sub_6mts',\n",
              " 'num_sub_12mts',\n",
              " 'num_dbt',\n",
              " 'num_lss',\n",
              " 'recent_level_of_deliq',\n",
              " 'time_since_recent_enq',\n",
              " 'AGE',\n",
              " 'NETMONTHLYINCOME',\n",
              " 'Time_With_Curr_Empr',\n",
              " 'pct_opened_TLs_L6m_of_L12m',\n",
              " 'pct_currentBal_all_TL',\n",
              " 'CC_Flag',\n",
              " 'PL_Flag',\n",
              " 'HL_Flag',\n",
              " 'GL_Flag',\n",
              " 'Credit_Score']"
            ]
          },
          "metadata": {},
          "execution_count": 209
        }
      ]
    },
    {
      "cell_type": "markdown",
      "source": [
        "Here we haven't appplied t-test because output column have 4 categories"
      ],
      "metadata": {
        "id": "scRSZur0f3Qh"
      }
    },
    {
      "cell_type": "code",
      "source": [
        "# check Anova for columns_to_be_kept\n",
        "\n",
        "from scipy.stats import f_oneway\n",
        "\n",
        "columns_to_be_kept_numerical = []\n",
        "\n",
        "for i in columns_to_be_kept:\n",
        "    a = list(df[i])\n",
        "    b = list(df['Approved_Flag'])\n",
        "\n",
        "    group_P1 = [value for value, group in zip(a, b) if group == 'P1']\n",
        "    group_P2 = [value for value, group in zip(a, b) if group == 'P2']\n",
        "    group_P3 = [value for value, group in zip(a, b) if group == 'P3']\n",
        "    group_P4 = [value for value, group in zip(a, b) if group == 'P4']\n",
        "\n",
        "\n",
        "    f_statistic, p_value = f_oneway(group_P1, group_P2, group_P3, group_P4)\n",
        "\n",
        "    if p_value <= 0.05:\n",
        "        columns_to_be_kept_numerical.append(i)\n"
      ],
      "metadata": {
        "id": "lL5aIIN4fyvc"
      },
      "execution_count": 210,
      "outputs": []
    },
    {
      "cell_type": "markdown",
      "source": [
        "feature selection is done for cat and num features\n"
      ],
      "metadata": {
        "id": "QK8jLtfrgCX_"
      }
    },
    {
      "cell_type": "code",
      "source": [
        "# listing all the final features\n",
        "features = columns_to_be_kept_numerical + ['MARITALSTATUS', 'EDUCATION', 'GENDER', 'last_prod_enq2', 'first_prod_enq2']\n",
        "df = df[features + ['Approved_Flag']]"
      ],
      "metadata": {
        "id": "RMM9MCsEfysO"
      },
      "execution_count": 211,
      "outputs": []
    },
    {
      "cell_type": "code",
      "source": [
        "df.columns"
      ],
      "metadata": {
        "colab": {
          "base_uri": "https://localhost:8080/",
          "height": 0
        },
        "id": "I3P7gS7mO_r6",
        "outputId": "05fc8dc4-d5a2-4bd7-ea09-e467eeb627d1"
      },
      "execution_count": 212,
      "outputs": [
        {
          "output_type": "execute_result",
          "data": {
            "text/plain": [
              "Index(['pct_tl_open_L6M', 'pct_tl_closed_L6M', 'pct_tl_open_L12M',\n",
              "       'pct_tl_closed_L12M', 'Tot_Missed_Pmnt', 'Age_Oldest_TL',\n",
              "       'Age_Newest_TL', 'time_since_recent_payment',\n",
              "       'max_recent_level_of_deliq', 'num_sub', 'num_sub_6mts', 'num_sub_12mts',\n",
              "       'num_dbt', 'num_lss', 'recent_level_of_deliq', 'time_since_recent_enq',\n",
              "       'AGE', 'NETMONTHLYINCOME', 'Time_With_Curr_Empr',\n",
              "       'pct_opened_TLs_L6m_of_L12m', 'CC_Flag', 'PL_Flag', 'HL_Flag',\n",
              "       'GL_Flag', 'Credit_Score', 'MARITALSTATUS', 'EDUCATION', 'GENDER',\n",
              "       'last_prod_enq2', 'first_prod_enq2', 'Approved_Flag'],\n",
              "      dtype='object')"
            ]
          },
          "metadata": {},
          "execution_count": 212
        }
      ]
    },
    {
      "cell_type": "code",
      "source": [
        "# Encoding for the categorical features\n",
        "# ['MARITALSTATUS', 'EDUCATION', 'GENDER' , 'last_prod_enq2' ,'first_prod_enq2']"
      ],
      "metadata": {
        "id": "aT0suHUNfyms"
      },
      "execution_count": 63,
      "outputs": []
    },
    {
      "cell_type": "code",
      "source": [
        "df['MARITALSTATUS'].unique()\n",
        "df['EDUCATION'].unique()\n",
        "df['GENDER'].unique()\n",
        "df['last_prod_enq2'].unique()\n",
        "df['first_prod_enq2'].unique()"
      ],
      "metadata": {
        "colab": {
          "base_uri": "https://localhost:8080/",
          "height": 0
        },
        "id": "j4aWSr-2fykV",
        "outputId": "2aebe19c-90b0-4223-a7a4-48a05c713efb"
      },
      "execution_count": 213,
      "outputs": [
        {
          "output_type": "execute_result",
          "data": {
            "text/plain": [
              "array(['PL', 'ConsumerLoan', 'others', 'AL', 'HL', 'CC'], dtype=object)"
            ]
          },
          "metadata": {},
          "execution_count": 213
        }
      ]
    },
    {
      "cell_type": "markdown",
      "source": [
        "Only education is a candidate for label encoding. so <br># Ordinal feature --<br> EDUCATION<br>\n",
        "SSC            : 1<br>\n",
        "12TH           : 2<br>\n",
        "GRADUATE       : 3<br>\n",
        "UNDER GRADUATE : 3<br>\n",
        "POST-GRADUATE  : 4<br>\n",
        "OTHERS         : 1<br>\n",
        "PROFESSIONAL   : 3\n"
      ],
      "metadata": {
        "id": "TbRCW8CrgPR7"
      }
    },
    {
      "cell_type": "code",
      "source": [
        "df.loc[df['EDUCATION'] == 'SSC',['EDUCATION']]              = 1\n",
        "df.loc[df['EDUCATION'] == '12TH',['EDUCATION']]             = 2\n",
        "df.loc[df['EDUCATION'] == 'GRADUATE',['EDUCATION']]         = 3\n",
        "df.loc[df['EDUCATION'] == 'UNDER GRADUATE',['EDUCATION']]   = 3\n",
        "df.loc[df['EDUCATION'] == 'POST-GRADUATE',['EDUCATION']]    = 4\n",
        "df.loc[df['EDUCATION'] == 'OTHERS',['EDUCATION']]           = 1\n",
        "df.loc[df['EDUCATION'] == 'PROFESSIONAL',['EDUCATION']]     = 3"
      ],
      "metadata": {
        "id": "M3e6T0Qjfyhm"
      },
      "execution_count": 214,
      "outputs": []
    },
    {
      "cell_type": "code",
      "source": [
        "df['EDUCATION'].value_counts()\n",
        "df['EDUCATION'] = df['EDUCATION'].astype(int)\n",
        "df.info()\n",
        "\n",
        "df_encoded = pd.get_dummies(df, columns=['MARITALSTATUS','GENDER', 'last_prod_enq2' ,'first_prod_enq2'])"
      ],
      "metadata": {
        "colab": {
          "base_uri": "https://localhost:8080/",
          "height": 0
        },
        "id": "xwn4sUAhfyeq",
        "outputId": "ba9ccf27-3557-48af-dc0a-88763c6f8d1d"
      },
      "execution_count": 215,
      "outputs": [
        {
          "output_type": "stream",
          "name": "stdout",
          "text": [
            "<class 'pandas.core.frame.DataFrame'>\n",
            "RangeIndex: 42064 entries, 0 to 42063\n",
            "Data columns (total 31 columns):\n",
            " #   Column                      Non-Null Count  Dtype  \n",
            "---  ------                      --------------  -----  \n",
            " 0   pct_tl_open_L6M             42064 non-null  float64\n",
            " 1   pct_tl_closed_L6M           42064 non-null  float64\n",
            " 2   pct_tl_open_L12M            42064 non-null  float64\n",
            " 3   pct_tl_closed_L12M          42064 non-null  float64\n",
            " 4   Tot_Missed_Pmnt             42064 non-null  int64  \n",
            " 5   Age_Oldest_TL               42064 non-null  int64  \n",
            " 6   Age_Newest_TL               42064 non-null  int64  \n",
            " 7   time_since_recent_payment   42064 non-null  int64  \n",
            " 8   max_recent_level_of_deliq   42064 non-null  int64  \n",
            " 9   num_sub                     42064 non-null  int64  \n",
            " 10  num_sub_6mts                42064 non-null  int64  \n",
            " 11  num_sub_12mts               42064 non-null  int64  \n",
            " 12  num_dbt                     42064 non-null  int64  \n",
            " 13  num_lss                     42064 non-null  int64  \n",
            " 14  recent_level_of_deliq       42064 non-null  int64  \n",
            " 15  time_since_recent_enq       42064 non-null  int64  \n",
            " 16  AGE                         42064 non-null  int64  \n",
            " 17  NETMONTHLYINCOME            42064 non-null  int64  \n",
            " 18  Time_With_Curr_Empr         42064 non-null  int64  \n",
            " 19  pct_opened_TLs_L6m_of_L12m  42064 non-null  float64\n",
            " 20  CC_Flag                     42064 non-null  int64  \n",
            " 21  PL_Flag                     42064 non-null  int64  \n",
            " 22  HL_Flag                     42064 non-null  int64  \n",
            " 23  GL_Flag                     42064 non-null  int64  \n",
            " 24  Credit_Score                42064 non-null  int64  \n",
            " 25  MARITALSTATUS               42064 non-null  object \n",
            " 26  EDUCATION                   42064 non-null  int64  \n",
            " 27  GENDER                      42064 non-null  object \n",
            " 28  last_prod_enq2              42064 non-null  object \n",
            " 29  first_prod_enq2             42064 non-null  object \n",
            " 30  Approved_Flag               42064 non-null  object \n",
            "dtypes: float64(5), int64(21), object(5)\n",
            "memory usage: 9.9+ MB\n"
          ]
        }
      ]
    },
    {
      "cell_type": "code",
      "source": [
        "df_encoded.info()"
      ],
      "metadata": {
        "colab": {
          "base_uri": "https://localhost:8080/",
          "height": 0
        },
        "id": "JG7GjVdtfyZr",
        "outputId": "f63778fc-d652-457a-a3db-d6c2112324cc"
      },
      "execution_count": 216,
      "outputs": [
        {
          "output_type": "stream",
          "name": "stdout",
          "text": [
            "<class 'pandas.core.frame.DataFrame'>\n",
            "RangeIndex: 42064 entries, 0 to 42063\n",
            "Data columns (total 43 columns):\n",
            " #   Column                        Non-Null Count  Dtype  \n",
            "---  ------                        --------------  -----  \n",
            " 0   pct_tl_open_L6M               42064 non-null  float64\n",
            " 1   pct_tl_closed_L6M             42064 non-null  float64\n",
            " 2   pct_tl_open_L12M              42064 non-null  float64\n",
            " 3   pct_tl_closed_L12M            42064 non-null  float64\n",
            " 4   Tot_Missed_Pmnt               42064 non-null  int64  \n",
            " 5   Age_Oldest_TL                 42064 non-null  int64  \n",
            " 6   Age_Newest_TL                 42064 non-null  int64  \n",
            " 7   time_since_recent_payment     42064 non-null  int64  \n",
            " 8   max_recent_level_of_deliq     42064 non-null  int64  \n",
            " 9   num_sub                       42064 non-null  int64  \n",
            " 10  num_sub_6mts                  42064 non-null  int64  \n",
            " 11  num_sub_12mts                 42064 non-null  int64  \n",
            " 12  num_dbt                       42064 non-null  int64  \n",
            " 13  num_lss                       42064 non-null  int64  \n",
            " 14  recent_level_of_deliq         42064 non-null  int64  \n",
            " 15  time_since_recent_enq         42064 non-null  int64  \n",
            " 16  AGE                           42064 non-null  int64  \n",
            " 17  NETMONTHLYINCOME              42064 non-null  int64  \n",
            " 18  Time_With_Curr_Empr           42064 non-null  int64  \n",
            " 19  pct_opened_TLs_L6m_of_L12m    42064 non-null  float64\n",
            " 20  CC_Flag                       42064 non-null  int64  \n",
            " 21  PL_Flag                       42064 non-null  int64  \n",
            " 22  HL_Flag                       42064 non-null  int64  \n",
            " 23  GL_Flag                       42064 non-null  int64  \n",
            " 24  Credit_Score                  42064 non-null  int64  \n",
            " 25  EDUCATION                     42064 non-null  int64  \n",
            " 26  Approved_Flag                 42064 non-null  object \n",
            " 27  MARITALSTATUS_Married         42064 non-null  bool   \n",
            " 28  MARITALSTATUS_Single          42064 non-null  bool   \n",
            " 29  GENDER_F                      42064 non-null  bool   \n",
            " 30  GENDER_M                      42064 non-null  bool   \n",
            " 31  last_prod_enq2_AL             42064 non-null  bool   \n",
            " 32  last_prod_enq2_CC             42064 non-null  bool   \n",
            " 33  last_prod_enq2_ConsumerLoan   42064 non-null  bool   \n",
            " 34  last_prod_enq2_HL             42064 non-null  bool   \n",
            " 35  last_prod_enq2_PL             42064 non-null  bool   \n",
            " 36  last_prod_enq2_others         42064 non-null  bool   \n",
            " 37  first_prod_enq2_AL            42064 non-null  bool   \n",
            " 38  first_prod_enq2_CC            42064 non-null  bool   \n",
            " 39  first_prod_enq2_ConsumerLoan  42064 non-null  bool   \n",
            " 40  first_prod_enq2_HL            42064 non-null  bool   \n",
            " 41  first_prod_enq2_PL            42064 non-null  bool   \n",
            " 42  first_prod_enq2_others        42064 non-null  bool   \n",
            "dtypes: bool(16), float64(5), int64(21), object(1)\n",
            "memory usage: 9.3+ MB\n"
          ]
        }
      ]
    },
    {
      "cell_type": "code",
      "source": [
        "k = df_encoded.describe()"
      ],
      "metadata": {
        "id": "XfncxnPmfyWx"
      },
      "execution_count": 217,
      "outputs": []
    },
    {
      "cell_type": "code",
      "source": [
        "df_encoded.columns"
      ],
      "metadata": {
        "colab": {
          "base_uri": "https://localhost:8080/",
          "height": 0
        },
        "id": "Md6kHiJB4ZPY",
        "outputId": "d8dc267d-081e-4e3a-aad3-b1a099e14b9d"
      },
      "execution_count": 218,
      "outputs": [
        {
          "output_type": "execute_result",
          "data": {
            "text/plain": [
              "Index(['pct_tl_open_L6M', 'pct_tl_closed_L6M', 'pct_tl_open_L12M',\n",
              "       'pct_tl_closed_L12M', 'Tot_Missed_Pmnt', 'Age_Oldest_TL',\n",
              "       'Age_Newest_TL', 'time_since_recent_payment',\n",
              "       'max_recent_level_of_deliq', 'num_sub', 'num_sub_6mts', 'num_sub_12mts',\n",
              "       'num_dbt', 'num_lss', 'recent_level_of_deliq', 'time_since_recent_enq',\n",
              "       'AGE', 'NETMONTHLYINCOME', 'Time_With_Curr_Empr',\n",
              "       'pct_opened_TLs_L6m_of_L12m', 'CC_Flag', 'PL_Flag', 'HL_Flag',\n",
              "       'GL_Flag', 'Credit_Score', 'EDUCATION', 'Approved_Flag',\n",
              "       'MARITALSTATUS_Married', 'MARITALSTATUS_Single', 'GENDER_F', 'GENDER_M',\n",
              "       'last_prod_enq2_AL', 'last_prod_enq2_CC', 'last_prod_enq2_ConsumerLoan',\n",
              "       'last_prod_enq2_HL', 'last_prod_enq2_PL', 'last_prod_enq2_others',\n",
              "       'first_prod_enq2_AL', 'first_prod_enq2_CC',\n",
              "       'first_prod_enq2_ConsumerLoan', 'first_prod_enq2_HL',\n",
              "       'first_prod_enq2_PL', 'first_prod_enq2_others'],\n",
              "      dtype='object')"
            ]
          },
          "metadata": {},
          "execution_count": 218
        }
      ]
    },
    {
      "cell_type": "markdown",
      "source": [
        "Base line model fitting"
      ],
      "metadata": {
        "id": "nEd9hBgRhNNm"
      }
    },
    {
      "cell_type": "code",
      "source": [
        "# 1. Random Forest\n",
        "\n",
        "y = df_encoded['Approved_Flag']\n",
        "x = df_encoded. drop ( ['Approved_Flag'], axis = 1 )\n",
        "\n",
        "\n",
        "x_train, x_test, y_train, y_test = train_test_split(x, y, test_size=0.2, random_state=42)\n",
        "rf_classifier = RandomForestClassifier()\n",
        "rf_classifier.fit(x_train, y_train)\n",
        "y_pred = rf_classifier.predict(x_test)"
      ],
      "metadata": {
        "id": "53omJKuLhIdx"
      },
      "execution_count": 221,
      "outputs": []
    },
    {
      "cell_type": "code",
      "source": [
        "accuracy = accuracy_score(y_test, y_pred)\n",
        "print ()\n",
        "print(f'Accuracy: {accuracy}')\n",
        "print ()\n",
        "precision, recall, f1_score, _ = precision_recall_fscore_support(y_test, y_pred)\n",
        "\n",
        "\n",
        "for i, v in enumerate(['p1', 'p2', 'p3', 'p4']):\n",
        "    print(f\"Class {v}:\")\n",
        "    print(f\"Precision: {precision[i]}\")\n",
        "    print(f\"Recall: {recall[i]}\")\n",
        "    print(f\"F1 Score: {f1_score[i]}\")\n",
        "    print()\n"
      ],
      "metadata": {
        "colab": {
          "base_uri": "https://localhost:8080/",
          "height": 0
        },
        "id": "mOXSNcXGhIar",
        "outputId": "84fb31b8-1a2a-445f-e119-205236a3963a"
      },
      "execution_count": 222,
      "outputs": [
        {
          "output_type": "stream",
          "name": "stdout",
          "text": [
            "\n",
            "Accuracy: 0.9902531796029954\n",
            "\n",
            "Class p1:\n",
            "Precision: 0.9375582479030755\n",
            "Recall: 0.9921104536489151\n",
            "F1 Score: 0.9640632486823192\n",
            "\n",
            "Class p2:\n",
            "Precision: 0.9986144101346002\n",
            "Recall: 1.0\n",
            "F1 Score: 0.9993067247697336\n",
            "\n",
            "Class p3:\n",
            "Precision: 0.9936457505957109\n",
            "Recall: 0.9441509433962264\n",
            "F1 Score: 0.9682662538699691\n",
            "\n",
            "Class p4:\n",
            "Precision: 1.0\n",
            "Recall: 1.0\n",
            "F1 Score: 1.0\n",
            "\n"
          ]
        }
      ]
    },
    {
      "cell_type": "code",
      "source": [
        "# 2. xgboost\n",
        "\n",
        "import xgboost as xgb\n",
        "from sklearn.preprocessing import LabelEncoder\n",
        "\n",
        "xgb_classifier = xgb.XGBClassifier(objective='multi:softmax',  num_class=4)\n",
        "\n",
        "\n",
        "\n",
        "y = df_encoded['Approved_Flag']\n",
        "x = df_encoded. drop ( ['Approved_Flag'], axis = 1 )\n",
        "\n",
        "\n",
        "label_encoder = LabelEncoder()\n",
        "y_encoded = label_encoder.fit_transform(y)\n",
        "\n",
        "\n",
        "x_train, x_test, y_train, y_test = train_test_split(x, y_encoded, test_size=0.2, random_state=42)\n",
        "\n",
        "\n",
        "\n",
        "\n",
        "xgb_classifier.fit(x_train, y_train)\n",
        "y_pred = xgb_classifier.predict(x_test)"
      ],
      "metadata": {
        "id": "3OS7o2VehIXM"
      },
      "execution_count": 223,
      "outputs": []
    },
    {
      "cell_type": "code",
      "source": [
        "\n",
        "accuracy = accuracy_score(y_test, y_pred)\n",
        "print ()\n",
        "print(f'Accuracy: {accuracy:.2f}')\n",
        "print ()\n",
        "\n",
        "precision, recall, f1_score, _ = precision_recall_fscore_support(y_test, y_pred)\n",
        "\n",
        "for i, v in enumerate(['p1', 'p2', 'p3', 'p4']):\n",
        "    print(f\"Class {v}:\")\n",
        "    print(f\"Precision: {precision[i]}\")\n",
        "    print(f\"Recall: {recall[i]}\")\n",
        "    print(f\"F1 Score: {f1_score[i]}\")\n",
        "    print()\n"
      ],
      "metadata": {
        "colab": {
          "base_uri": "https://localhost:8080/",
          "height": 0
        },
        "id": "5hoYRI76hIRr",
        "outputId": "4925fb90-478e-4881-e0ce-8de4b2e96cc3"
      },
      "execution_count": 224,
      "outputs": [
        {
          "output_type": "stream",
          "name": "stdout",
          "text": [
            "\n",
            "Accuracy: 0.99\n",
            "\n",
            "Class p1:\n",
            "Precision: 0.9798792756539235\n",
            "Recall: 0.960552268244576\n",
            "F1 Score: 0.9701195219123506\n",
            "\n",
            "Class p2:\n",
            "Precision: 1.0\n",
            "Recall: 1.0\n",
            "F1 Score: 1.0\n",
            "\n",
            "Class p3:\n",
            "Precision: 0.9702602230483272\n",
            "Recall: 0.9849056603773585\n",
            "F1 Score: 0.9775280898876405\n",
            "\n",
            "Class p4:\n",
            "Precision: 1.0\n",
            "Recall: 1.0\n",
            "F1 Score: 1.0\n",
            "\n"
          ]
        }
      ]
    },
    {
      "cell_type": "code",
      "source": [
        "# 3. Decision Tree\n",
        "from sklearn.tree import DecisionTreeClassifier\n",
        "\n",
        "\n",
        "y = df_encoded['Approved_Flag']\n",
        "x = df_encoded. drop ( ['Approved_Flag'], axis = 1 )\n",
        "\n",
        "x_train, x_test, y_train, y_test = train_test_split(x, y, test_size=0.2, random_state=42)\n",
        "\n",
        "\n",
        "dt_model = DecisionTreeClassifier(max_depth=20, min_samples_split=10)\n",
        "dt_model.fit(x_train, y_train)\n",
        "y_pred = dt_model.predict(x_test)"
      ],
      "metadata": {
        "id": "w4yqqsZMhIOb"
      },
      "execution_count": 225,
      "outputs": []
    },
    {
      "cell_type": "code",
      "source": [
        "accuracy = accuracy_score(y_test, y_pred)\n",
        "print ()\n",
        "print(f\"Accuracy: {accuracy:.2f}\")\n",
        "print ()\n",
        "\n",
        "precision, recall, f1_score, _ = precision_recall_fscore_support(y_test, y_pred)\n",
        "\n",
        "for i, v in enumerate(['p1', 'p2', 'p3', 'p4']):\n",
        "    print(f\"Class {v}:\")\n",
        "    print(f\"Precision: {precision[i]}\")\n",
        "    print(f\"Recall: {recall[i]}\")\n",
        "    print(f\"F1 Score: {f1_score[i]}\")\n",
        "    print()"
      ],
      "metadata": {
        "colab": {
          "base_uri": "https://localhost:8080/",
          "height": 0
        },
        "id": "EacOkEXjhH0d",
        "outputId": "26738842-eecb-4e0d-ebab-13070c6b2d53"
      },
      "execution_count": 226,
      "outputs": [
        {
          "output_type": "stream",
          "name": "stdout",
          "text": [
            "\n",
            "Accuracy: 0.99\n",
            "\n",
            "Class p1:\n",
            "Precision: 0.9692765113974232\n",
            "Recall: 0.9644970414201184\n",
            "F1 Score: 0.966880869995057\n",
            "\n",
            "Class p2:\n",
            "Precision: 1.0\n",
            "Recall: 1.0\n",
            "F1 Score: 1.0\n",
            "\n",
            "Class p3:\n",
            "Precision: 0.9729323308270676\n",
            "Recall: 0.9766037735849057\n",
            "F1 Score: 0.974764595103578\n",
            "\n",
            "Class p4:\n",
            "Precision: 1.0\n",
            "Recall: 1.0\n",
            "F1 Score: 1.0\n",
            "\n"
          ]
        }
      ]
    },
    {
      "cell_type": "markdown",
      "source": [
        "xgboost is giving me best results<br>\n",
        "We will further finetune it"
      ],
      "metadata": {
        "id": "21FZ8h5lhrEd"
      }
    },
    {
      "cell_type": "code",
      "source": [
        "# Apply standard scaler\n",
        "\n",
        "from sklearn.preprocessing import StandardScaler\n",
        "\n",
        "columns_to_be_scaled = ['Age_Oldest_TL','Age_Newest_TL','time_since_recent_payment',\n",
        "'max_recent_level_of_deliq','recent_level_of_deliq',\n",
        "'time_since_recent_enq','NETMONTHLYINCOME','Time_With_Curr_Empr']\n",
        "\n",
        "for i in columns_to_be_scaled:\n",
        "    column_data = df_encoded[i].values.reshape(-1, 1)\n",
        "    scaler = StandardScaler()\n",
        "    scaled_column = scaler.fit_transform(column_data)\n",
        "    df_encoded[i] = scaled_column"
      ],
      "metadata": {
        "id": "I3C0SLWWholD"
      },
      "execution_count": 227,
      "outputs": []
    },
    {
      "cell_type": "code",
      "source": [
        "import xgboost as xgb\n",
        "from sklearn.preprocessing import LabelEncoder\n",
        "\n",
        "xgb_classifier = xgb.XGBClassifier(objective='multi:softmax',  num_class=4)\n",
        "\n",
        "\n",
        "\n",
        "y = df_encoded['Approved_Flag']\n",
        "x = df_encoded. drop ( ['Approved_Flag'], axis = 1 )\n",
        "\n",
        "\n",
        "label_encoder = LabelEncoder()\n",
        "y_encoded = label_encoder.fit_transform(y)\n",
        "\n",
        "\n",
        "x_train, x_test, y_train, y_test = train_test_split(x, y_encoded, test_size=0.2, random_state=42)\n",
        "\n",
        "\n",
        "\n",
        "\n",
        "xgb_classifier.fit(x_train, y_train)\n",
        "y_pred = xgb_classifier.predict(x_test)"
      ],
      "metadata": {
        "id": "Gvdda3PPhogK"
      },
      "execution_count": 228,
      "outputs": []
    },
    {
      "cell_type": "code",
      "source": [
        "accuracy = accuracy_score(y_test, y_pred)\n",
        "print(f'Accuracy: {accuracy:.2f}')\n",
        "\n",
        "\n",
        "precision, recall, f1_score, _ = precision_recall_fscore_support(y_test, y_pred)\n",
        "\n",
        "for i, v in enumerate(['p1', 'p2', 'p3', 'p4']):\n",
        "    print(f\"Class {v}:\")\n",
        "    print(f\"Precision: {precision[i]}\")\n",
        "    print(f\"Recall: {recall[i]}\")\n",
        "    print(f\"F1 Score: {f1_score[i]}\")\n",
        "    print()\n"
      ],
      "metadata": {
        "colab": {
          "base_uri": "https://localhost:8080/",
          "height": 0
        },
        "id": "zOxZTomyhodd",
        "outputId": "596bd3a7-201b-43e4-eca6-43bfe382ea12"
      },
      "execution_count": 229,
      "outputs": [
        {
          "output_type": "stream",
          "name": "stdout",
          "text": [
            "Accuracy: 0.99\n",
            "Class p1:\n",
            "Precision: 0.9798792756539235\n",
            "Recall: 0.960552268244576\n",
            "F1 Score: 0.9701195219123506\n",
            "\n",
            "Class p2:\n",
            "Precision: 1.0\n",
            "Recall: 1.0\n",
            "F1 Score: 1.0\n",
            "\n",
            "Class p3:\n",
            "Precision: 0.9702602230483272\n",
            "Recall: 0.9849056603773585\n",
            "F1 Score: 0.9775280898876405\n",
            "\n",
            "Class p4:\n",
            "Precision: 1.0\n",
            "Recall: 1.0\n",
            "F1 Score: 1.0\n",
            "\n"
          ]
        }
      ]
    },
    {
      "cell_type": "markdown",
      "source": [
        "No improvement in metrices"
      ],
      "metadata": {
        "id": "nh_nb6lbh9qy"
      }
    },
    {
      "cell_type": "code",
      "source": [
        "# Hyperparameter tuning in xgboost\n",
        "from sklearn.model_selection import GridSearchCV\n",
        "x_train, x_test, y_train, y_test = train_test_split(x, y_encoded, test_size=0.2, random_state=42)\n",
        "\n",
        "# Define the XGBClassifier with the initial set of hyperparameters\n",
        "xgb_model = xgb.XGBClassifier(objective='multi:softmax', num_class=4)\n",
        "\n",
        "# Define the parameter grid for hyperparameter tuning\n",
        "\n",
        "param_grid = {\n",
        "    'n_estimators': [50, 100, 200],\n",
        "    'max_depth': [3, 5, 7],\n",
        "    'learning_rate': [0.01, 0.1, 0.2],\n",
        "}\n",
        "\n",
        "grid_search = GridSearchCV(estimator=xgb_model, param_grid=param_grid, cv=3, scoring='accuracy', n_jobs=-1)\n",
        "grid_search.fit(x_train, y_train)\n",
        "\n",
        "# Print the best hyperparameters\n",
        "print(\"Best Hyperparameters:\", grid_search.best_params_)\n",
        "\n",
        "# Evaluate the model with the best hyperparameters on the test set\n",
        "best_model = grid_search.best_estimator_\n",
        "accuracy = best_model.score(x_test, y_test)\n",
        "print(\"Test Accuracy:\", accuracy)"
      ],
      "metadata": {
        "colab": {
          "base_uri": "https://localhost:8080/",
          "height": 0
        },
        "id": "cMatYv7Lhoap",
        "outputId": "5455aa97-c073-4f2a-9977-5ce7267427b1"
      },
      "execution_count": 230,
      "outputs": [
        {
          "output_type": "stream",
          "name": "stdout",
          "text": [
            "Best Hyperparameters: {'learning_rate': 0.01, 'max_depth': 3, 'n_estimators': 50}\n",
            "Test Accuracy: 0.994413407821229\n"
          ]
        }
      ]
    },
    {
      "cell_type": "markdown",
      "source": [
        "We can do the same task manually as well"
      ],
      "metadata": {
        "id": "XjaEezxIiOzr"
      }
    },
    {
      "cell_type": "code",
      "source": [
        "# # Define the hyperparameter grid\n",
        "# param_grid = {\n",
        "#   'colsample_bytree': [0.1, 0.3, 0.5, 0.7, 0.9],\n",
        "#   'learning_rate'   : [0.001, 0.01, 0.1, 1],\n",
        "#   'max_depth'       : [3, 5, 8, 10],\n",
        "#   'alpha'           : [1, 10, 100],\n",
        "#   'n_estimators'    : [10,50,100]\n",
        "# }\n",
        "\n",
        "# index = 0\n",
        "\n",
        "# answers_grid = {\n",
        "#     'combination'       :[],\n",
        "#     'train_Accuracy'    :[],\n",
        "#     'test_Accuracy'     :[],\n",
        "#     'colsample_bytree'  :[],\n",
        "#     'learning_rate'     :[],\n",
        "#     'max_depth'         :[],\n",
        "#     'alpha'             :[],\n",
        "#     'n_estimators'      :[]\n",
        "\n",
        "#     }\n",
        "\n",
        "\n",
        "# # Loop through each combination of hyperparameters\n",
        "# for colsample_bytree in param_grid['colsample_bytree']:\n",
        "#   for learning_rate in param_grid['learning_rate']:\n",
        "#     for max_depth in param_grid['max_depth']:\n",
        "#       for alpha in param_grid['alpha']:\n",
        "#           for n_estimators in param_grid['n_estimators']:\n",
        "\n",
        "#               index = index + 1\n",
        "\n",
        "#               # Define and train the XGBoost model\n",
        "#               model = xgb.XGBClassifier(objective='multi:softmax',\n",
        "#                                        num_class=4,\n",
        "#                                        colsample_bytree = colsample_bytree,\n",
        "#                                        learning_rate = learning_rate,\n",
        "#                                        max_depth = max_depth,\n",
        "#                                        alpha = alpha,\n",
        "#                                        n_estimators = n_estimators)\n",
        "\n",
        "\n",
        "\n",
        "#               y = df_encoded['Approved_Flag']\n",
        "#               x = df_encoded. drop ( ['Approved_Flag'], axis = 1 )\n",
        "\n",
        "#               label_encoder = LabelEncoder()\n",
        "#               y_encoded = label_encoder.fit_transform(y)\n",
        "\n",
        "\n",
        "#               x_train, x_test, y_train, y_test = train_test_split(x, y_encoded, test_size=0.2, random_state=42)\n",
        "\n",
        "\n",
        "#               model.fit(x_train, y_train)\n",
        "\n",
        "\n",
        "\n",
        "#               # Predict on training and testing sets\n",
        "#               y_pred_train = model.predict(x_train)\n",
        "#               y_pred_test = model.predict(x_test)\n",
        "\n",
        "\n",
        "#               # Calculate train and test results\n",
        "\n",
        "#               train_accuracy =  accuracy_score (y_train, y_pred_train)\n",
        "#               test_accuracy  =  accuracy_score (y_test , y_pred_test)\n",
        "\n",
        "\n",
        "\n",
        "#               # Include into the lists\n",
        "#               answers_grid ['combination']   .append(index)\n",
        "#               answers_grid ['train_Accuracy']    .append(train_accuracy)\n",
        "#               answers_grid ['test_Accuracy']     .append(test_accuracy)\n",
        "#               answers_grid ['colsample_bytree']   .append(colsample_bytree)\n",
        "#               answers_grid ['learning_rate']      .append(learning_rate)\n",
        "#               answers_grid ['max_depth']          .append(max_depth)\n",
        "#               answers_grid ['alpha']              .append(alpha)\n",
        "#               answers_grid ['n_estimators']       .append(n_estimators)\n",
        "\n",
        "\n",
        "#               # Print results for this combination\n",
        "#               print(f\"Combination {index}\")\n",
        "#               print(f\"colsample_bytree: {colsample_bytree}, learning_rate: {learning_rate}, max_depth: {max_depth}, alpha: {alpha}, n_estimators: {n_estimators}\")\n",
        "#               print(f\"Train Accuracy: {train_accuracy:.2f}\")\n",
        "#               print(f\"Test Accuracy : {test_accuracy :.2f}\")\n",
        "#               print(\"-\" * 30)"
      ],
      "metadata": {
        "id": "xqbxG5cghoXl"
      },
      "execution_count": 80,
      "outputs": []
    },
    {
      "cell_type": "code",
      "source": [
        "y = df_encoded['Approved_Flag']\n",
        "x = df_encoded. drop ( ['Approved_Flag'], axis = 1 )\n",
        "\n",
        "\n",
        "label_encoder = LabelEncoder()\n",
        "y_encoded = label_encoder.fit_transform(y)\n",
        "y=y_encoded\n",
        "\n",
        "\n",
        "x_train, x_test, y_train, y_test = train_test_split(x, y, test_size=0.2, random_state=42)"
      ],
      "metadata": {
        "id": "91p4aBZJ1dRN"
      },
      "execution_count": 246,
      "outputs": []
    },
    {
      "cell_type": "code",
      "source": [
        "model = xgb.XGBClassifier(\n",
        "    objective='multi:softmax',  # Specify the objective for multiclass classification\n",
        "    learning_rate = 0.01, max_depth= 3, n_estimators= 50\n",
        ")\n"
      ],
      "metadata": {
        "id": "TOv14bvs0A4G"
      },
      "execution_count": 232,
      "outputs": []
    },
    {
      "cell_type": "code",
      "source": [
        "model.fit(x_train, y_train)"
      ],
      "metadata": {
        "colab": {
          "base_uri": "https://localhost:8080/",
          "height": 248
        },
        "id": "6Tvy7Y3N0gnq",
        "outputId": "c23e0104-72f4-49fe-f915-53a440191d63"
      },
      "execution_count": 233,
      "outputs": [
        {
          "output_type": "execute_result",
          "data": {
            "text/plain": [
              "XGBClassifier(base_score=None, booster=None, callbacks=None,\n",
              "              colsample_bylevel=None, colsample_bynode=None,\n",
              "              colsample_bytree=None, device=None, early_stopping_rounds=None,\n",
              "              enable_categorical=False, eval_metric=None, feature_types=None,\n",
              "              gamma=None, grow_policy=None, importance_type=None,\n",
              "              interaction_constraints=None, learning_rate=0.01, max_bin=None,\n",
              "              max_cat_threshold=None, max_cat_to_onehot=None,\n",
              "              max_delta_step=None, max_depth=3, max_leaves=None,\n",
              "              min_child_weight=None, missing=nan, monotone_constraints=None,\n",
              "              multi_strategy=None, n_estimators=50, n_jobs=None,\n",
              "              num_parallel_tree=None, objective='multi:softmax', ...)"
            ],
            "text/html": [
              "<style>#sk-container-id-4 {color: black;background-color: white;}#sk-container-id-4 pre{padding: 0;}#sk-container-id-4 div.sk-toggleable {background-color: white;}#sk-container-id-4 label.sk-toggleable__label {cursor: pointer;display: block;width: 100%;margin-bottom: 0;padding: 0.3em;box-sizing: border-box;text-align: center;}#sk-container-id-4 label.sk-toggleable__label-arrow:before {content: \"▸\";float: left;margin-right: 0.25em;color: #696969;}#sk-container-id-4 label.sk-toggleable__label-arrow:hover:before {color: black;}#sk-container-id-4 div.sk-estimator:hover label.sk-toggleable__label-arrow:before {color: black;}#sk-container-id-4 div.sk-toggleable__content {max-height: 0;max-width: 0;overflow: hidden;text-align: left;background-color: #f0f8ff;}#sk-container-id-4 div.sk-toggleable__content pre {margin: 0.2em;color: black;border-radius: 0.25em;background-color: #f0f8ff;}#sk-container-id-4 input.sk-toggleable__control:checked~div.sk-toggleable__content {max-height: 200px;max-width: 100%;overflow: auto;}#sk-container-id-4 input.sk-toggleable__control:checked~label.sk-toggleable__label-arrow:before {content: \"▾\";}#sk-container-id-4 div.sk-estimator input.sk-toggleable__control:checked~label.sk-toggleable__label {background-color: #d4ebff;}#sk-container-id-4 div.sk-label input.sk-toggleable__control:checked~label.sk-toggleable__label {background-color: #d4ebff;}#sk-container-id-4 input.sk-hidden--visually {border: 0;clip: rect(1px 1px 1px 1px);clip: rect(1px, 1px, 1px, 1px);height: 1px;margin: -1px;overflow: hidden;padding: 0;position: absolute;width: 1px;}#sk-container-id-4 div.sk-estimator {font-family: monospace;background-color: #f0f8ff;border: 1px dotted black;border-radius: 0.25em;box-sizing: border-box;margin-bottom: 0.5em;}#sk-container-id-4 div.sk-estimator:hover {background-color: #d4ebff;}#sk-container-id-4 div.sk-parallel-item::after {content: \"\";width: 100%;border-bottom: 1px solid gray;flex-grow: 1;}#sk-container-id-4 div.sk-label:hover label.sk-toggleable__label {background-color: #d4ebff;}#sk-container-id-4 div.sk-serial::before {content: \"\";position: absolute;border-left: 1px solid gray;box-sizing: border-box;top: 0;bottom: 0;left: 50%;z-index: 0;}#sk-container-id-4 div.sk-serial {display: flex;flex-direction: column;align-items: center;background-color: white;padding-right: 0.2em;padding-left: 0.2em;position: relative;}#sk-container-id-4 div.sk-item {position: relative;z-index: 1;}#sk-container-id-4 div.sk-parallel {display: flex;align-items: stretch;justify-content: center;background-color: white;position: relative;}#sk-container-id-4 div.sk-item::before, #sk-container-id-4 div.sk-parallel-item::before {content: \"\";position: absolute;border-left: 1px solid gray;box-sizing: border-box;top: 0;bottom: 0;left: 50%;z-index: -1;}#sk-container-id-4 div.sk-parallel-item {display: flex;flex-direction: column;z-index: 1;position: relative;background-color: white;}#sk-container-id-4 div.sk-parallel-item:first-child::after {align-self: flex-end;width: 50%;}#sk-container-id-4 div.sk-parallel-item:last-child::after {align-self: flex-start;width: 50%;}#sk-container-id-4 div.sk-parallel-item:only-child::after {width: 0;}#sk-container-id-4 div.sk-dashed-wrapped {border: 1px dashed gray;margin: 0 0.4em 0.5em 0.4em;box-sizing: border-box;padding-bottom: 0.4em;background-color: white;}#sk-container-id-4 div.sk-label label {font-family: monospace;font-weight: bold;display: inline-block;line-height: 1.2em;}#sk-container-id-4 div.sk-label-container {text-align: center;}#sk-container-id-4 div.sk-container {/* jupyter's `normalize.less` sets `[hidden] { display: none; }` but bootstrap.min.css set `[hidden] { display: none !important; }` so we also need the `!important` here to be able to override the default hidden behavior on the sphinx rendered scikit-learn.org. See: https://github.com/scikit-learn/scikit-learn/issues/21755 */display: inline-block !important;position: relative;}#sk-container-id-4 div.sk-text-repr-fallback {display: none;}</style><div id=\"sk-container-id-4\" class=\"sk-top-container\"><div class=\"sk-text-repr-fallback\"><pre>XGBClassifier(base_score=None, booster=None, callbacks=None,\n",
              "              colsample_bylevel=None, colsample_bynode=None,\n",
              "              colsample_bytree=None, device=None, early_stopping_rounds=None,\n",
              "              enable_categorical=False, eval_metric=None, feature_types=None,\n",
              "              gamma=None, grow_policy=None, importance_type=None,\n",
              "              interaction_constraints=None, learning_rate=0.01, max_bin=None,\n",
              "              max_cat_threshold=None, max_cat_to_onehot=None,\n",
              "              max_delta_step=None, max_depth=3, max_leaves=None,\n",
              "              min_child_weight=None, missing=nan, monotone_constraints=None,\n",
              "              multi_strategy=None, n_estimators=50, n_jobs=None,\n",
              "              num_parallel_tree=None, objective=&#x27;multi:softmax&#x27;, ...)</pre><b>In a Jupyter environment, please rerun this cell to show the HTML representation or trust the notebook. <br />On GitHub, the HTML representation is unable to render, please try loading this page with nbviewer.org.</b></div><div class=\"sk-container\" hidden><div class=\"sk-item\"><div class=\"sk-estimator sk-toggleable\"><input class=\"sk-toggleable__control sk-hidden--visually\" id=\"sk-estimator-id-4\" type=\"checkbox\" checked><label for=\"sk-estimator-id-4\" class=\"sk-toggleable__label sk-toggleable__label-arrow\">XGBClassifier</label><div class=\"sk-toggleable__content\"><pre>XGBClassifier(base_score=None, booster=None, callbacks=None,\n",
              "              colsample_bylevel=None, colsample_bynode=None,\n",
              "              colsample_bytree=None, device=None, early_stopping_rounds=None,\n",
              "              enable_categorical=False, eval_metric=None, feature_types=None,\n",
              "              gamma=None, grow_policy=None, importance_type=None,\n",
              "              interaction_constraints=None, learning_rate=0.01, max_bin=None,\n",
              "              max_cat_threshold=None, max_cat_to_onehot=None,\n",
              "              max_delta_step=None, max_depth=3, max_leaves=None,\n",
              "              min_child_weight=None, missing=nan, monotone_constraints=None,\n",
              "              multi_strategy=None, n_estimators=50, n_jobs=None,\n",
              "              num_parallel_tree=None, objective=&#x27;multi:softmax&#x27;, ...)</pre></div></div></div></div></div>"
            ]
          },
          "metadata": {},
          "execution_count": 233
        }
      ]
    },
    {
      "cell_type": "code",
      "source": [
        "y_pred_model = model.predict(x_test)"
      ],
      "metadata": {
        "id": "ZywAhKHp0ZoD"
      },
      "execution_count": 234,
      "outputs": []
    },
    {
      "cell_type": "code",
      "source": [
        "y_pred_train=model.predict(x_train)\n",
        "accuracy = accuracy_score(y_train, y_pred_train)\n",
        "print(f'Accuracy: {accuracy:.5f}')\n",
        "\n",
        "\n",
        "precision, recall, f1_score, _ = precision_recall_fscore_support(y_train, y_pred_train)\n",
        "\n",
        "for i, v in enumerate(['p1', 'p2', 'p3', 'p4']):\n",
        "    print(f\"Class {v}:\")\n",
        "    print(f\"Precision: {precision[i]}\")\n",
        "    print(f\"Recall: {recall[i]}\")\n",
        "    print(f\"F1 Score: {f1_score[i]}\")\n",
        "    print()"
      ],
      "metadata": {
        "colab": {
          "base_uri": "https://localhost:8080/",
          "height": 0
        },
        "id": "QmLpEhxC2a9q",
        "outputId": "02b900e0-92bf-4550-e6ab-30a0d18fb052"
      },
      "execution_count": 235,
      "outputs": [
        {
          "output_type": "stream",
          "name": "stdout",
          "text": [
            "Accuracy: 0.99542\n",
            "Class p1:\n",
            "Precision: 0.9986673773987207\n",
            "Recall: 0.9622496147919877\n",
            "F1 Score: 0.9801203243526027\n",
            "\n",
            "Class p2:\n",
            "Precision: 1.0\n",
            "Recall: 1.0\n",
            "F1 Score: 1.0\n",
            "\n",
            "Class p3:\n",
            "Precision: 0.97166761741776\n",
            "Recall: 0.9990224828934506\n",
            "F1 Score: 0.9851551956815114\n",
            "\n",
            "Class p4:\n",
            "Precision: 1.0\n",
            "Recall: 0.9995277449822905\n",
            "F1 Score: 0.999763816721776\n",
            "\n"
          ]
        }
      ]
    },
    {
      "cell_type": "code",
      "source": [
        "accuracy = accuracy_score(y_test, y_pred_model)\n",
        "print(f'Accuracy: {accuracy:.5f}')\n",
        "\n",
        "\n",
        "precision, recall, f1_score, _ = precision_recall_fscore_support(y_test, y_pred_model)\n",
        "\n",
        "for i, v in enumerate(['p1', 'p2', 'p3', 'p4']):\n",
        "    print(f\"Class {v}:\")\n",
        "    print(f\"Precision: {precision[i]}\")\n",
        "    print(f\"Recall: {recall[i]}\")\n",
        "    print(f\"F1 Score: {f1_score[i]}\")\n",
        "    print()"
      ],
      "metadata": {
        "colab": {
          "base_uri": "https://localhost:8080/",
          "height": 0
        },
        "id": "J_fw_KC4wXmL",
        "outputId": "6f9d4cd3-3142-4140-89bd-ef862dd1ac88"
      },
      "execution_count": 236,
      "outputs": [
        {
          "output_type": "stream",
          "name": "stdout",
          "text": [
            "Accuracy: 0.99441\n",
            "Class p1:\n",
            "Precision: 0.9989680082559339\n",
            "Recall: 0.9546351084812623\n",
            "F1 Score: 0.9762985375693394\n",
            "\n",
            "Class p2:\n",
            "Precision: 1.0\n",
            "Recall: 1.0\n",
            "F1 Score: 1.0\n",
            "\n",
            "Class p3:\n",
            "Precision: 0.9664233576642336\n",
            "Recall: 0.999245283018868\n",
            "F1 Score: 0.9825602968460111\n",
            "\n",
            "Class p4:\n",
            "Precision: 1.0\n",
            "Recall: 1.0\n",
            "F1 Score: 1.0\n",
            "\n"
          ]
        }
      ]
    },
    {
      "cell_type": "code",
      "source": [
        "# Perform cross-validation with appropriate metrics\n",
        "cv_scores_accuracy = cross_val_score(model, x, y, cv=5, scoring='accuracy')\n",
        "cv_scores_log_loss = cross_val_score(model, x, y, cv=5, scoring='neg_log_loss')\n",
        "cv_scores_f1_macro = cross_val_score(model, x, y, cv=5, scoring='f1_macro')\n",
        "print(f\"Cross-Validation Accuracy Scores: {cv_scores_accuracy}\")\n",
        "print(f\"Mean CV Accuracy Score: {np.mean(cv_scores_accuracy)}\")\n",
        "print(f\"Cross-Validation Log Loss Scores: {cv_scores_log_loss}\")\n",
        "print(f\"Mean CV Log Loss Score: {np.mean(cv_scores_log_loss)}\")\n",
        "print(f\"Cross-Validation F1 Macro Scores: {cv_scores_f1_macro}\")\n",
        "print(f\"Mean CV F1 Macro Score: {np.mean(cv_scores_f1_macro)}\")"
      ],
      "metadata": {
        "colab": {
          "base_uri": "https://localhost:8080/",
          "height": 0
        },
        "id": "XGXbnrrjs31A",
        "outputId": "c917b60d-bddf-4bee-a4be-f620ad8b6834"
      },
      "execution_count": 247,
      "outputs": [
        {
          "output_type": "stream",
          "name": "stdout",
          "text": [
            "Cross-Validation Accuracy Scores: [0.99976227 0.99988114 0.99964341 0.992155   0.98454589]\n",
            "Mean CV Accuracy Score: 0.9951975406130235\n",
            "Cross-Validation Log Loss Scores: [-0.73675802 -0.73673287 -0.73609358 -0.73924791 -0.74494875]\n",
            "Mean CV Log Loss Score: -0.7387562248550941\n",
            "Cross-Validation F1 Macro Scores: [0.99955117 0.99978422 0.99932722 0.98506137 0.97031532]\n",
            "Mean CV F1 Macro Score: 0.9908078595970643\n"
          ]
        }
      ]
    },
    {
      "cell_type": "code",
      "source": [
        "# save the model\n",
        "import pickle\n",
        "filename = '/content/drive/MyDrive/Credit risk modelling/updated_Loan_appr_cat.sav'\n",
        "pickle.dump(model, open(filename,'wb'))"
      ],
      "metadata": {
        "id": "bsLGEEYeTwvu"
      },
      "execution_count": 248,
      "outputs": []
    },
    {
      "cell_type": "code",
      "source": [
        "# load_model = pickle.load(open(filename,'rb'))"
      ],
      "metadata": {
        "id": "Gpbrix70hoPJ"
      },
      "execution_count": 91,
      "outputs": []
    },
    {
      "cell_type": "markdown",
      "source": [
        "Some more Experimentation\n"
      ],
      "metadata": {
        "id": "xab5NkLygUXi"
      }
    },
    {
      "cell_type": "markdown",
      "source": [
        "**KNN**"
      ],
      "metadata": {
        "id": "gZoTSuZGn-73"
      }
    },
    {
      "cell_type": "code",
      "source": [
        "from sklearn.neighbors import KNeighborsClassifier\n",
        "knn_model = KNeighborsClassifier()\n",
        "knn_model.fit(x_train, y_train)\n",
        "knn_pred = knn_model.predict(x_test)"
      ],
      "metadata": {
        "id": "qHrZhhlTgTsp"
      },
      "execution_count": 237,
      "outputs": []
    },
    {
      "cell_type": "code",
      "source": [
        "y_pred_knn = knn_model.predict(x_test)"
      ],
      "metadata": {
        "id": "lnlqic8qgTpn"
      },
      "execution_count": 238,
      "outputs": []
    },
    {
      "cell_type": "code",
      "source": [
        "accuracy = accuracy_score(y_test, y_pred_knn)\n",
        "print(f'Accuracy: {accuracy:.5f}')\n",
        "\n",
        "\n",
        "precision, recall, f1_score, _ = precision_recall_fscore_support(y_test, y_pred_knn)\n",
        "\n",
        "for i, v in enumerate(['p1', 'p2', 'p3', 'p4']):\n",
        "    print(f\"Class {v}:\")\n",
        "    print(f\"Precision: {precision[i]}\")\n",
        "    print(f\"Recall: {recall[i]}\")\n",
        "    print(f\"F1 Score: {f1_score[i]}\")\n",
        "    print()"
      ],
      "metadata": {
        "colab": {
          "base_uri": "https://localhost:8080/",
          "height": 0
        },
        "id": "fXmeXGYKgTmp",
        "outputId": "b75b0bd5-c192-479e-dfa3-73e9651eee5f"
      },
      "execution_count": 239,
      "outputs": [
        {
          "output_type": "stream",
          "name": "stdout",
          "text": [
            "Accuracy: 0.98348\n",
            "Class p1:\n",
            "Precision: 0.9583333333333334\n",
            "Recall: 0.97534516765286\n",
            "F1 Score: 0.9667644183773215\n",
            "\n",
            "Class p2:\n",
            "Precision: 0.9911242603550295\n",
            "Recall: 0.9960356788899901\n",
            "F1 Score: 0.9935739001482946\n",
            "\n",
            "Class p3:\n",
            "Precision: 0.9695074276778733\n",
            "Recall: 0.9358490566037736\n",
            "F1 Score: 0.9523809523809523\n",
            "\n",
            "Class p4:\n",
            "Precision: 0.9883720930232558\n",
            "Recall: 0.9912536443148688\n",
            "F1 Score: 0.9898107714701601\n",
            "\n"
          ]
        }
      ]
    },
    {
      "cell_type": "markdown",
      "source": [
        "**SVM**"
      ],
      "metadata": {
        "id": "4dsL_wvlsvPf"
      }
    },
    {
      "cell_type": "code",
      "source": [
        "from sklearn.svm import SVC\n",
        "svm_model = SVC()\n",
        "svm_model.fit(x_train, y_train)"
      ],
      "metadata": {
        "colab": {
          "base_uri": "https://localhost:8080/",
          "height": 74
        },
        "id": "nUrGW839gTju",
        "outputId": "a1845c44-647b-4585-d884-4b4888e33dff"
      },
      "execution_count": 240,
      "outputs": [
        {
          "output_type": "execute_result",
          "data": {
            "text/plain": [
              "SVC()"
            ],
            "text/html": [
              "<style>#sk-container-id-5 {color: black;background-color: white;}#sk-container-id-5 pre{padding: 0;}#sk-container-id-5 div.sk-toggleable {background-color: white;}#sk-container-id-5 label.sk-toggleable__label {cursor: pointer;display: block;width: 100%;margin-bottom: 0;padding: 0.3em;box-sizing: border-box;text-align: center;}#sk-container-id-5 label.sk-toggleable__label-arrow:before {content: \"▸\";float: left;margin-right: 0.25em;color: #696969;}#sk-container-id-5 label.sk-toggleable__label-arrow:hover:before {color: black;}#sk-container-id-5 div.sk-estimator:hover label.sk-toggleable__label-arrow:before {color: black;}#sk-container-id-5 div.sk-toggleable__content {max-height: 0;max-width: 0;overflow: hidden;text-align: left;background-color: #f0f8ff;}#sk-container-id-5 div.sk-toggleable__content pre {margin: 0.2em;color: black;border-radius: 0.25em;background-color: #f0f8ff;}#sk-container-id-5 input.sk-toggleable__control:checked~div.sk-toggleable__content {max-height: 200px;max-width: 100%;overflow: auto;}#sk-container-id-5 input.sk-toggleable__control:checked~label.sk-toggleable__label-arrow:before {content: \"▾\";}#sk-container-id-5 div.sk-estimator input.sk-toggleable__control:checked~label.sk-toggleable__label {background-color: #d4ebff;}#sk-container-id-5 div.sk-label input.sk-toggleable__control:checked~label.sk-toggleable__label {background-color: #d4ebff;}#sk-container-id-5 input.sk-hidden--visually {border: 0;clip: rect(1px 1px 1px 1px);clip: rect(1px, 1px, 1px, 1px);height: 1px;margin: -1px;overflow: hidden;padding: 0;position: absolute;width: 1px;}#sk-container-id-5 div.sk-estimator {font-family: monospace;background-color: #f0f8ff;border: 1px dotted black;border-radius: 0.25em;box-sizing: border-box;margin-bottom: 0.5em;}#sk-container-id-5 div.sk-estimator:hover {background-color: #d4ebff;}#sk-container-id-5 div.sk-parallel-item::after {content: \"\";width: 100%;border-bottom: 1px solid gray;flex-grow: 1;}#sk-container-id-5 div.sk-label:hover label.sk-toggleable__label {background-color: #d4ebff;}#sk-container-id-5 div.sk-serial::before {content: \"\";position: absolute;border-left: 1px solid gray;box-sizing: border-box;top: 0;bottom: 0;left: 50%;z-index: 0;}#sk-container-id-5 div.sk-serial {display: flex;flex-direction: column;align-items: center;background-color: white;padding-right: 0.2em;padding-left: 0.2em;position: relative;}#sk-container-id-5 div.sk-item {position: relative;z-index: 1;}#sk-container-id-5 div.sk-parallel {display: flex;align-items: stretch;justify-content: center;background-color: white;position: relative;}#sk-container-id-5 div.sk-item::before, #sk-container-id-5 div.sk-parallel-item::before {content: \"\";position: absolute;border-left: 1px solid gray;box-sizing: border-box;top: 0;bottom: 0;left: 50%;z-index: -1;}#sk-container-id-5 div.sk-parallel-item {display: flex;flex-direction: column;z-index: 1;position: relative;background-color: white;}#sk-container-id-5 div.sk-parallel-item:first-child::after {align-self: flex-end;width: 50%;}#sk-container-id-5 div.sk-parallel-item:last-child::after {align-self: flex-start;width: 50%;}#sk-container-id-5 div.sk-parallel-item:only-child::after {width: 0;}#sk-container-id-5 div.sk-dashed-wrapped {border: 1px dashed gray;margin: 0 0.4em 0.5em 0.4em;box-sizing: border-box;padding-bottom: 0.4em;background-color: white;}#sk-container-id-5 div.sk-label label {font-family: monospace;font-weight: bold;display: inline-block;line-height: 1.2em;}#sk-container-id-5 div.sk-label-container {text-align: center;}#sk-container-id-5 div.sk-container {/* jupyter's `normalize.less` sets `[hidden] { display: none; }` but bootstrap.min.css set `[hidden] { display: none !important; }` so we also need the `!important` here to be able to override the default hidden behavior on the sphinx rendered scikit-learn.org. See: https://github.com/scikit-learn/scikit-learn/issues/21755 */display: inline-block !important;position: relative;}#sk-container-id-5 div.sk-text-repr-fallback {display: none;}</style><div id=\"sk-container-id-5\" class=\"sk-top-container\"><div class=\"sk-text-repr-fallback\"><pre>SVC()</pre><b>In a Jupyter environment, please rerun this cell to show the HTML representation or trust the notebook. <br />On GitHub, the HTML representation is unable to render, please try loading this page with nbviewer.org.</b></div><div class=\"sk-container\" hidden><div class=\"sk-item\"><div class=\"sk-estimator sk-toggleable\"><input class=\"sk-toggleable__control sk-hidden--visually\" id=\"sk-estimator-id-5\" type=\"checkbox\" checked><label for=\"sk-estimator-id-5\" class=\"sk-toggleable__label sk-toggleable__label-arrow\">SVC</label><div class=\"sk-toggleable__content\"><pre>SVC()</pre></div></div></div></div></div>"
            ]
          },
          "metadata": {},
          "execution_count": 240
        }
      ]
    },
    {
      "cell_type": "code",
      "source": [
        "y_pred_svc = svm_model.predict(x_test)"
      ],
      "metadata": {
        "id": "tOZtEZkzgTgs"
      },
      "execution_count": 241,
      "outputs": []
    },
    {
      "cell_type": "code",
      "source": [
        "accuracy = accuracy_score(y_test, y_pred_svc)\n",
        "print(f'Accuracy: {accuracy:.5f}')\n",
        "\n",
        "\n",
        "precision, recall, f1_score, _ = precision_recall_fscore_support(y_test, y_pred_svc)\n",
        "\n",
        "for i, v in enumerate(['p1', 'p2', 'p3', 'p4']):\n",
        "    print(f\"Class {v}:\")\n",
        "    print(f\"Precision: {precision[i]}\")\n",
        "    print(f\"Recall: {recall[i]}\")\n",
        "    print(f\"F1 Score: {f1_score[i]}\")\n",
        "    print()"
      ],
      "metadata": {
        "colab": {
          "base_uri": "https://localhost:8080/",
          "height": 0
        },
        "id": "rAfwvXwIgTdc",
        "outputId": "67e7c14c-8790-4b37-e4b0-c9a9a743f289"
      },
      "execution_count": 242,
      "outputs": [
        {
          "output_type": "stream",
          "name": "stdout",
          "text": [
            "Accuracy: 0.92500\n",
            "Class p1:\n",
            "Precision: 0.9988399071925754\n",
            "Recall: 0.849112426035503\n",
            "F1 Score: 0.9179104477611941\n",
            "\n",
            "Class p2:\n",
            "Precision: 0.9245006413780466\n",
            "Recall: 1.0\n",
            "F1 Score: 0.960769377261474\n",
            "\n",
            "Class p3:\n",
            "Precision: 0.8300857365549493\n",
            "Recall: 0.8037735849056604\n",
            "F1 Score: 0.8167177914110428\n",
            "\n",
            "Class p4:\n",
            "Precision: 1.0\n",
            "Recall: 0.7881438289601554\n",
            "F1 Score: 0.8815217391304347\n",
            "\n"
          ]
        }
      ]
    },
    {
      "cell_type": "markdown",
      "source": [
        "Check for class imbalance"
      ],
      "metadata": {
        "id": "V6Ed1EDkuNI5"
      }
    },
    {
      "cell_type": "code",
      "source": [
        "best_params_dt = {\n",
        " 'criterion': 'entropy',\n",
        " 'max_depth': 14,\n",
        " 'min_samples_split': 14,\n",
        " 'min_samples_leaf': 16\n",
        "}\n",
        "# Create and train the model\n",
        "dt_classifier = DecisionTreeClassifier(**best_params_dt, random_state=42)\n",
        "dt_classifier.fit(x_train, y_train)\n",
        "# Predict and evaluate\n",
        "y_pred_dt = dt_classifier.predict(x_test) # Use validation set for evaluation\n",
        "accuracy_dt = accuracy_score(y_test, y_pred_dt)"
      ],
      "metadata": {
        "id": "Vl4_FPrBs37u"
      },
      "execution_count": 112,
      "outputs": []
    },
    {
      "cell_type": "code",
      "source": [
        "# accuracy = accuracy_score(y_test, y_pred_svc)\n",
        "print(f'Accuracy: {accuracy_dt:.5f}')\n",
        "\n",
        "\n",
        "precision, recall, f1_score, _ = precision_recall_fscore_support(y_test, y_pred_dt)\n",
        "\n",
        "for i, v in enumerate(['p1', 'p2', 'p3', 'p4']):\n",
        "    print(f\"Class {v}:\")\n",
        "    print(f\"Precision: {precision[i]}\")\n",
        "    print(f\"Recall: {recall[i]}\")\n",
        "    print(f\"F1 Score: {f1_score[i]}\")\n",
        "    print()"
      ],
      "metadata": {
        "colab": {
          "base_uri": "https://localhost:8080/",
          "height": 0
        },
        "id": "FzDOL59rs34c",
        "outputId": "91b05656-d717-45dd-9269-a803c1e6db33"
      },
      "execution_count": 113,
      "outputs": [
        {
          "output_type": "stream",
          "name": "stdout",
          "text": [
            "Accuracy: 0.74813\n",
            "Class p1:\n",
            "Precision: 0.7612838515546639\n",
            "Recall: 0.7485207100591716\n",
            "F1 Score: 0.7548483341621085\n",
            "\n",
            "Class p2:\n",
            "Precision: 0.8108255877528704\n",
            "Recall: 0.8818632309217047\n",
            "F1 Score: 0.8448537789593619\n",
            "\n",
            "Class p3:\n",
            "Precision: 0.41858141858141856\n",
            "Recall: 0.31622641509433963\n",
            "F1 Score: 0.36027515047291486\n",
            "\n",
            "Class p4:\n",
            "Precision: 0.71875\n",
            "Recall: 0.6482021379980564\n",
            "F1 Score: 0.6816555952989269\n",
            "\n"
          ]
        }
      ]
    },
    {
      "cell_type": "code",
      "source": [
        "from sklearn.model_selection import cross_val_score"
      ],
      "metadata": {
        "id": "UJtyHwc98G-u"
      },
      "execution_count": 116,
      "outputs": []
    },
    {
      "cell_type": "code",
      "source": [
        "import seaborn as sns"
      ],
      "metadata": {
        "id": "u-Trp6qR8vG8"
      },
      "execution_count": 120,
      "outputs": []
    },
    {
      "cell_type": "code",
      "source": [
        "# Feature importances\n",
        "feature_importance = dt_classifier.feature_importances_\n",
        "feature_importance_df = pd.DataFrame({'Feature': x.columns, 'Importance': feature_importance})\n",
        "feature_importance_df = feature_importance_df.sort_values(by='Importance', ascending=False)\n",
        "plt.figure(figsize=(12, 10))\n",
        "sns.barplot(x='Importance', y='Feature', data=feature_importance_df)\n",
        "plt.title('Feature Importance - Decision Tree')\n",
        "plt.xlabel('Importance')\n",
        "plt.ylabel('')\n",
        "sns.despine(left=True, bottom=True)\n",
        "plt.show()"
      ],
      "metadata": {
        "colab": {
          "base_uri": "https://localhost:8080/",
          "height": 825
        },
        "id": "g13fXj3ms3xc",
        "outputId": "ca9dc7eb-8b92-4fce-ee7f-55e1a8fcad3e"
      },
      "execution_count": 121,
      "outputs": [
        {
          "output_type": "display_data",
          "data": {
            "text/plain": [
              "<Figure size 1200x1000 with 1 Axes>"
            ],
            "image/png": "[encoded data removed]"
          },
          "metadata": {}
        }
      ]
    },
    {
      "cell_type": "code",
      "source": [
        "feature_importance_df"
      ],
      "metadata": {
        "colab": {
          "base_uri": "https://localhost:8080/",
          "height": 1742
        },
        "id": "kzTue7kBs3uN",
        "outputId": "0b6e3cf2-8919-4d89-def1-063b3c451585"
      },
      "execution_count": 122,
      "outputs": [
        {
          "output_type": "execute_result",
          "data": {
            "text/plain": [
              "                         Feature  Importance\n",
              "11                 Age_Oldest_TL    0.282733\n",
              "28                       enq_L3m    0.258359\n",
              "17                 num_std_12mts    0.115294\n",
              "24         recent_level_of_deliq    0.083919\n",
              "27         time_since_recent_enq    0.060827\n",
              "33        pct_PL_enq_L6m_of_ever    0.058572\n",
              "12                 Age_Newest_TL    0.027686\n",
              "13     time_since_recent_payment    0.024697\n",
              "14     max_recent_level_of_deliq    0.022911\n",
              "30           Time_With_Curr_Empr    0.011073\n",
              "29              NETMONTHLYINCOME    0.008844\n",
              "15             num_deliq_6_12mts    0.006212\n",
              "0                pct_tl_open_L6M    0.004861\n",
              "8                     Secured_TL    0.004465\n",
              "9                   Unsecured_TL    0.003827\n",
              "37                     EDUCATION    0.002936\n",
              "3             pct_tl_closed_L12M    0.002734\n",
              "16             num_times_60p_dpd    0.002692\n",
              "10                      Other_TL    0.002570\n",
              "26                   PL_enq_L12m    0.002195\n",
              "1              pct_tl_closed_L6M    0.002100\n",
              "53        first_prod_enq2_others    0.001996\n",
              "4                Tot_Missed_Pmnt    0.001191\n",
              "47         last_prod_enq2_others    0.001018\n",
              "44   last_prod_enq2_ConsumerLoan    0.000968\n",
              "35                       HL_Flag    0.000708\n",
              "7                          PL_TL    0.000665\n",
              "34        pct_CC_enq_L6m_of_ever    0.000569\n",
              "32                       PL_Flag    0.000539\n",
              "38         MARITALSTATUS_Married    0.000488\n",
              "42             last_prod_enq2_AL    0.000371\n",
              "2             Tot_TL_closed_L12M    0.000336\n",
              "50  first_prod_enq2_ConsumerLoan    0.000278\n",
              "6                        Home_TL    0.000274\n",
              "41                      GENDER_M    0.000249\n",
              "46             last_prod_enq2_PL    0.000233\n",
              "52            first_prod_enq2_PL    0.000231\n",
              "25                   CC_enq_L12m    0.000204\n",
              "39          MARITALSTATUS_Single    0.000093\n",
              "31                       CC_Flag    0.000083\n",
              "51            first_prod_enq2_HL    0.000000\n",
              "49            first_prod_enq2_CC    0.000000\n",
              "48            first_prod_enq2_AL    0.000000\n",
              "45             last_prod_enq2_HL    0.000000\n",
              "43             last_prod_enq2_CC    0.000000\n",
              "18                       num_sub    0.000000\n",
              "21                       num_dbt    0.000000\n",
              "40                      GENDER_F    0.000000\n",
              "23                       num_lss    0.000000\n",
              "20                 num_sub_12mts    0.000000\n",
              "36                       GL_Flag    0.000000\n",
              "5                          CC_TL    0.000000\n",
              "19                  num_sub_6mts    0.000000\n",
              "22                 num_dbt_12mts    0.000000"
            ],
            "text/html": [
              "\n",
              "  <div id=\"df-09335f3e-ba24-4f3f-a85a-8d5343aea743\" class=\"colab-df-container\">\n",
              "    <div>\n",
              "<style scoped>\n",
              "    .dataframe tbody tr th:only-of-type {\n",
              "        vertical-align: middle;\n",
              "    }\n",
              "\n",
              "    .dataframe tbody tr th {\n",
              "        vertical-align: top;\n",
              "    }\n",
              "\n",
              "    .dataframe thead th {\n",
              "        text-align: right;\n",
              "    }\n",
              "</style>\n",
              "<table border=\"1\" class=\"dataframe\">\n",
              "  <thead>\n",
              "    <tr style=\"text-align: right;\">\n",
              "      <th></th>\n",
              "      <th>Feature</th>\n",
              "      <th>Importance</th>\n",
              "    </tr>\n",
              "  </thead>\n",
              "  <tbody>\n",
              "    <tr>\n",
              "      <th>11</th>\n",
              "      <td>Age_Oldest_TL</td>\n",
              "      <td>0.282733</td>\n",
              "    </tr>\n",
              "    <tr>\n",
              "      <th>28</th>\n",
              "      <td>enq_L3m</td>\n",
              "      <td>0.258359</td>\n",
              "    </tr>\n",
              "    <tr>\n",
              "      <th>17</th>\n",
              "      <td>num_std_12mts</td>\n",
              "      <td>0.115294</td>\n",
              "    </tr>\n",
              "    <tr>\n",
              "      <th>24</th>\n",
              "      <td>recent_level_of_deliq</td>\n",
              "      <td>0.083919</td>\n",
              "    </tr>\n",
              "    <tr>\n",
              "      <th>27</th>\n",
              "      <td>time_since_recent_enq</td>\n",
              "      <td>0.060827</td>\n",
              "    </tr>\n",
              "    <tr>\n",
              "      <th>33</th>\n",
              "      <td>pct_PL_enq_L6m_of_ever</td>\n",
              "      <td>0.058572</td>\n",
              "    </tr>\n",
              "    <tr>\n",
              "      <th>12</th>\n",
              "      <td>Age_Newest_TL</td>\n",
              "      <td>0.027686</td>\n",
              "    </tr>\n",
              "    <tr>\n",
              "      <th>13</th>\n",
              "      <td>time_since_recent_payment</td>\n",
              "      <td>0.024697</td>\n",
              "    </tr>\n",
              "    <tr>\n",
              "      <th>14</th>\n",
              "      <td>max_recent_level_of_deliq</td>\n",
              "      <td>0.022911</td>\n",
              "    </tr>\n",
              "    <tr>\n",
              "      <th>30</th>\n",
              "      <td>Time_With_Curr_Empr</td>\n",
              "      <td>0.011073</td>\n",
              "    </tr>\n",
              "    <tr>\n",
              "      <th>29</th>\n",
              "      <td>NETMONTHLYINCOME</td>\n",
              "      <td>0.008844</td>\n",
              "    </tr>\n",
              "    <tr>\n",
              "      <th>15</th>\n",
              "      <td>num_deliq_6_12mts</td>\n",
              "      <td>0.006212</td>\n",
              "    </tr>\n",
              "    <tr>\n",
              "      <th>0</th>\n",
              "      <td>pct_tl_open_L6M</td>\n",
              "      <td>0.004861</td>\n",
              "    </tr>\n",
              "    <tr>\n",
              "      <th>8</th>\n",
              "      <td>Secured_TL</td>\n",
              "      <td>0.004465</td>\n",
              "    </tr>\n",
              "    <tr>\n",
              "      <th>9</th>\n",
              "      <td>Unsecured_TL</td>\n",
              "      <td>0.003827</td>\n",
              "    </tr>\n",
              "    <tr>\n",
              "      <th>37</th>\n",
              "      <td>EDUCATION</td>\n",
              "      <td>0.002936</td>\n",
              "    </tr>\n",
              "    <tr>\n",
              "      <th>3</th>\n",
              "      <td>pct_tl_closed_L12M</td>\n",
              "      <td>0.002734</td>\n",
              "    </tr>\n",
              "    <tr>\n",
              "      <th>16</th>\n",
              "      <td>num_times_60p_dpd</td>\n",
              "      <td>0.002692</td>\n",
              "    </tr>\n",
              "    <tr>\n",
              "      <th>10</th>\n",
              "      <td>Other_TL</td>\n",
              "      <td>0.002570</td>\n",
              "    </tr>\n",
              "    <tr>\n",
              "      <th>26</th>\n",
              "      <td>PL_enq_L12m</td>\n",
              "      <td>0.002195</td>\n",
              "    </tr>\n",
              "    <tr>\n",
              "      <th>1</th>\n",
              "      <td>pct_tl_closed_L6M</td>\n",
              "      <td>0.002100</td>\n",
              "    </tr>\n",
              "    <tr>\n",
              "      <th>53</th>\n",
              "      <td>first_prod_enq2_others</td>\n",
              "      <td>0.001996</td>\n",
              "    </tr>\n",
              "    <tr>\n",
              "      <th>4</th>\n",
              "      <td>Tot_Missed_Pmnt</td>\n",
              "      <td>0.001191</td>\n",
              "    </tr>\n",
              "    <tr>\n",
              "      <th>47</th>\n",
              "      <td>last_prod_enq2_others</td>\n",
              "      <td>0.001018</td>\n",
              "    </tr>\n",
              "    <tr>\n",
              "      <th>44</th>\n",
              "      <td>last_prod_enq2_ConsumerLoan</td>\n",
              "      <td>0.000968</td>\n",
              "    </tr>\n",
              "    <tr>\n",
              "      <th>35</th>\n",
              "      <td>HL_Flag</td>\n",
              "      <td>0.000708</td>\n",
              "    </tr>\n",
              "    <tr>\n",
              "      <th>7</th>\n",
              "      <td>PL_TL</td>\n",
              "      <td>0.000665</td>\n",
              "    </tr>\n",
              "    <tr>\n",
              "      <th>34</th>\n",
              "      <td>pct_CC_enq_L6m_of_ever</td>\n",
              "      <td>0.000569</td>\n",
              "    </tr>\n",
              "    <tr>\n",
              "      <th>32</th>\n",
              "      <td>PL_Flag</td>\n",
              "      <td>0.000539</td>\n",
              "    </tr>\n",
              "    <tr>\n",
              "      <th>38</th>\n",
              "      <td>MARITALSTATUS_Married</td>\n",
              "      <td>0.000488</td>\n",
              "    </tr>\n",
              "    <tr>\n",
              "      <th>42</th>\n",
              "      <td>last_prod_enq2_AL</td>\n",
              "      <td>0.000371</td>\n",
              "    </tr>\n",
              "    <tr>\n",
              "      <th>2</th>\n",
              "      <td>Tot_TL_closed_L12M</td>\n",
              "      <td>0.000336</td>\n",
              "    </tr>\n",
              "    <tr>\n",
              "      <th>50</th>\n",
              "      <td>first_prod_enq2_ConsumerLoan</td>\n",
              "      <td>0.000278</td>\n",
              "    </tr>\n",
              "    <tr>\n",
              "      <th>6</th>\n",
              "      <td>Home_TL</td>\n",
              "      <td>0.000274</td>\n",
              "    </tr>\n",
              "    <tr>\n",
              "      <th>41</th>\n",
              "      <td>GENDER_M</td>\n",
              "      <td>0.000249</td>\n",
              "    </tr>\n",
              "    <tr>\n",
              "      <th>46</th>\n",
              "      <td>last_prod_enq2_PL</td>\n",
              "      <td>0.000233</td>\n",
              "    </tr>\n",
              "    <tr>\n",
              "      <th>52</th>\n",
              "      <td>first_prod_enq2_PL</td>\n",
              "      <td>0.000231</td>\n",
              "    </tr>\n",
              "    <tr>\n",
              "      <th>25</th>\n",
              "      <td>CC_enq_L12m</td>\n",
              "      <td>0.000204</td>\n",
              "    </tr>\n",
              "    <tr>\n",
              "      <th>39</th>\n",
              "      <td>MARITALSTATUS_Single</td>\n",
              "      <td>0.000093</td>\n",
              "    </tr>\n",
              "    <tr>\n",
              "      <th>31</th>\n",
              "      <td>CC_Flag</td>\n",
              "      <td>0.000083</td>\n",
              "    </tr>\n",
              "    <tr>\n",
              "      <th>51</th>\n",
              "      <td>first_prod_enq2_HL</td>\n",
              "      <td>0.000000</td>\n",
              "    </tr>\n",
              "    <tr>\n",
              "      <th>49</th>\n",
              "      <td>first_prod_enq2_CC</td>\n",
              "      <td>0.000000</td>\n",
              "    </tr>\n",
              "    <tr>\n",
              "      <th>48</th>\n",
              "      <td>first_prod_enq2_AL</td>\n",
              "      <td>0.000000</td>\n",
              "    </tr>\n",
              "    <tr>\n",
              "      <th>45</th>\n",
              "      <td>last_prod_enq2_HL</td>\n",
              "      <td>0.000000</td>\n",
              "    </tr>\n",
              "    <tr>\n",
              "      <th>43</th>\n",
              "      <td>last_prod_enq2_CC</td>\n",
              "      <td>0.000000</td>\n",
              "    </tr>\n",
              "    <tr>\n",
              "      <th>18</th>\n",
              "      <td>num_sub</td>\n",
              "      <td>0.000000</td>\n",
              "    </tr>\n",
              "    <tr>\n",
              "      <th>21</th>\n",
              "      <td>num_dbt</td>\n",
              "      <td>0.000000</td>\n",
              "    </tr>\n",
              "    <tr>\n",
              "      <th>40</th>\n",
              "      <td>GENDER_F</td>\n",
              "      <td>0.000000</td>\n",
              "    </tr>\n",
              "    <tr>\n",
              "      <th>23</th>\n",
              "      <td>num_lss</td>\n",
              "      <td>0.000000</td>\n",
              "    </tr>\n",
              "    <tr>\n",
              "      <th>20</th>\n",
              "      <td>num_sub_12mts</td>\n",
              "      <td>0.000000</td>\n",
              "    </tr>\n",
              "    <tr>\n",
              "      <th>36</th>\n",
              "      <td>GL_Flag</td>\n",
              "      <td>0.000000</td>\n",
              "    </tr>\n",
              "    <tr>\n",
              "      <th>5</th>\n",
              "      <td>CC_TL</td>\n",
              "      <td>0.000000</td>\n",
              "    </tr>\n",
              "    <tr>\n",
              "      <th>19</th>\n",
              "      <td>num_sub_6mts</td>\n",
              "      <td>0.000000</td>\n",
              "    </tr>\n",
              "    <tr>\n",
              "      <th>22</th>\n",
              "      <td>num_dbt_12mts</td>\n",
              "      <td>0.000000</td>\n",
              "    </tr>\n",
              "  </tbody>\n",
              "</table>\n",
              "</div>\n",
              "    <div class=\"colab-df-buttons\">\n",
              "\n",
              "  <div class=\"colab-df-container\">\n",
              "    <button class=\"colab-df-convert\" onclick=\"convertToInteractive('df-09335f3e-ba24-4f3f-a85a-8d5343aea743')\"\n",
              "            title=\"Convert this dataframe to an interactive table.\"\n",
              "            style=\"display:none;\">\n",
              "\n",
              "  <svg xmlns=\"http://www.w3.org/2000/svg\" height=\"24px\" viewBox=\"0 -960 960 960\">\n",
              "    <path d=\"M120-120v-720h720v720H120Zm60-500h600v-160H180v160Zm220 220h160v-160H400v160Zm0 220h160v-160H400v160ZM180-400h160v-160H180v160Zm440 0h160v-160H620v160ZM180-180h160v-160H180v160Zm440 0h160v-160H620v160Z\"/>\n",
              "  </svg>\n",
              "    </button>\n",
              "\n",
              "  <style>\n",
              "    .colab-df-container {\n",
              "      display:flex;\n",
              "      gap: 12px;\n",
              "    }\n",
              "\n",
              "    .colab-df-convert {\n",
              "      background-color: #E8F0FE;\n",
              "      border: none;\n",
              "      border-radius: 50%;\n",
              "      cursor: pointer;\n",
              "      display: none;\n",
              "      fill: #1967D2;\n",
              "      height: 32px;\n",
              "      padding: 0 0 0 0;\n",
              "      width: 32px;\n",
              "    }\n",
              "\n",
              "    .colab-df-convert:hover {\n",
              "      background-color: #E2EBFA;\n",
              "      box-shadow: 0px 1px 2px rgba(60, 64, 67, 0.3), 0px 1px 3px 1px rgba(60, 64, 67, 0.15);\n",
              "      fill: #174EA6;\n",
              "    }\n",
              "\n",
              "    .colab-df-buttons div {\n",
              "      margin-bottom: 4px;\n",
              "    }\n",
              "\n",
              "    [theme=dark] .colab-df-convert {\n",
              "      background-color: #3B4455;\n",
              "      fill: #D2E3FC;\n",
              "    }\n",
              "\n",
              "    [theme=dark] .colab-df-convert:hover {\n",
              "      background-color: #434B5C;\n",
              "      box-shadow: 0px 1px 3px 1px rgba(0, 0, 0, 0.15);\n",
              "      filter: drop-shadow(0px 1px 2px rgba(0, 0, 0, 0.3));\n",
              "      fill: #FFFFFF;\n",
              "    }\n",
              "  </style>\n",
              "\n",
              "    <script>\n",
              "      const buttonEl =\n",
              "        document.querySelector('#df-09335f3e-ba24-4f3f-a85a-8d5343aea743 button.colab-df-convert');\n",
              "      buttonEl.style.display =\n",
              "        google.colab.kernel.accessAllowed ? 'block' : 'none';\n",
              "\n",
              "      async function convertToInteractive(key) {\n",
              "        const element = document.querySelector('#df-09335f3e-ba24-4f3f-a85a-8d5343aea743');\n",
              "        const dataTable =\n",
              "          await google.colab.kernel.invokeFunction('convertToInteractive',\n",
              "                                                    [key], {});\n",
              "        if (!dataTable) return;\n",
              "\n",
              "        const docLinkHtml = 'Like what you see? Visit the ' +\n",
              "          '<a target=\"_blank\" href=https://colab.research.google.com/notebooks/data_table.ipynb>data table notebook</a>'\n",
              "          + ' to learn more about interactive tables.';\n",
              "        element.innerHTML = '';\n",
              "        dataTable['output_type'] = 'display_data';\n",
              "        await google.colab.output.renderOutput(dataTable, element);\n",
              "        const docLink = document.createElement('div');\n",
              "        docLink.innerHTML = docLinkHtml;\n",
              "        element.appendChild(docLink);\n",
              "      }\n",
              "    </script>\n",
              "  </div>\n",
              "\n",
              "\n",
              "<div id=\"df-1053e758-4a58-4ee0-b813-4e3297e39094\">\n",
              "  <button class=\"colab-df-quickchart\" onclick=\"quickchart('df-1053e758-4a58-4ee0-b813-4e3297e39094')\"\n",
              "            title=\"Suggest charts\"\n",
              "            style=\"display:none;\">\n",
              "\n",
              "<svg xmlns=\"http://www.w3.org/2000/svg\" height=\"24px\"viewBox=\"0 0 24 24\"\n",
              "     width=\"24px\">\n",
              "    <g>\n",
              "        <path d=\"M19 3H5c-1.1 0-2 .9-2 2v14c0 1.1.9 2 2 2h14c1.1 0 2-.9 2-2V5c0-1.1-.9-2-2-2zM9 17H7v-7h2v7zm4 0h-2V7h2v10zm4 0h-2v-4h2v4z\"/>\n",
              "    </g>\n",
              "</svg>\n",
              "  </button>\n",
              "\n",
              "<style>\n",
              "  .colab-df-quickchart {\n",
              "      --bg-color: #E8F0FE;\n",
              "      --fill-color: #1967D2;\n",
              "      --hover-bg-color: #E2EBFA;\n",
              "      --hover-fill-color: #174EA6;\n",
              "      --disabled-fill-color: #AAA;\n",
              "      --disabled-bg-color: #DDD;\n",
              "  }\n",
              "\n",
              "  [theme=dark] .colab-df-quickchart {\n",
              "      --bg-color: #3B4455;\n",
              "      --fill-color: #D2E3FC;\n",
              "      --hover-bg-color: #434B5C;\n",
              "      --hover-fill-color: #FFFFFF;\n",
              "      --disabled-bg-color: #3B4455;\n",
              "      --disabled-fill-color: #666;\n",
              "  }\n",
              "\n",
              "  .colab-df-quickchart {\n",
              "    background-color: var(--bg-color);\n",
              "    border: none;\n",
              "    border-radius: 50%;\n",
              "    cursor: pointer;\n",
              "    display: none;\n",
              "    fill: var(--fill-color);\n",
              "    height: 32px;\n",
              "    padding: 0;\n",
              "    width: 32px;\n",
              "  }\n",
              "\n",
              "  .colab-df-quickchart:hover {\n",
              "    background-color: var(--hover-bg-color);\n",
              "    box-shadow: 0 1px 2px rgba(60, 64, 67, 0.3), 0 1px 3px 1px rgba(60, 64, 67, 0.15);\n",
              "    fill: var(--button-hover-fill-color);\n",
              "  }\n",
              "\n",
              "  .colab-df-quickchart-complete:disabled,\n",
              "  .colab-df-quickchart-complete:disabled:hover {\n",
              "    background-color: var(--disabled-bg-color);\n",
              "    fill: var(--disabled-fill-color);\n",
              "    box-shadow: none;\n",
              "  }\n",
              "\n",
              "  .colab-df-spinner {\n",
              "    border: 2px solid var(--fill-color);\n",
              "    border-color: transparent;\n",
              "    border-bottom-color: var(--fill-color);\n",
              "    animation:\n",
              "      spin 1s steps(1) infinite;\n",
              "  }\n",
              "\n",
              "  @keyframes spin {\n",
              "    0% {\n",
              "      border-color: transparent;\n",
              "      border-bottom-color: var(--fill-color);\n",
              "      border-left-color: var(--fill-color);\n",
              "    }\n",
              "    20% {\n",
              "      border-color: transparent;\n",
              "      border-left-color: var(--fill-color);\n",
              "      border-top-color: var(--fill-color);\n",
              "    }\n",
              "    30% {\n",
              "      border-color: transparent;\n",
              "      border-left-color: var(--fill-color);\n",
              "      border-top-color: var(--fill-color);\n",
              "      border-right-color: var(--fill-color);\n",
              "    }\n",
              "    40% {\n",
              "      border-color: transparent;\n",
              "      border-right-color: var(--fill-color);\n",
              "      border-top-color: var(--fill-color);\n",
              "    }\n",
              "    60% {\n",
              "      border-color: transparent;\n",
              "      border-right-color: var(--fill-color);\n",
              "    }\n",
              "    80% {\n",
              "      border-color: transparent;\n",
              "      border-right-color: var(--fill-color);\n",
              "      border-bottom-color: var(--fill-color);\n",
              "    }\n",
              "    90% {\n",
              "      border-color: transparent;\n",
              "      border-bottom-color: var(--fill-color);\n",
              "    }\n",
              "  }\n",
              "</style>\n",
              "\n",
              "  <script>\n",
              "    async function quickchart(key) {\n",
              "      const quickchartButtonEl =\n",
              "        document.querySelector('#' + key + ' button');\n",
              "      quickchartButtonEl.disabled = true;  // To prevent multiple clicks.\n",
              "      quickchartButtonEl.classList.add('colab-df-spinner');\n",
              "      try {\n",
              "        const charts = await google.colab.kernel.invokeFunction(\n",
              "            'suggestCharts', [key], {});\n",
              "      } catch (error) {\n",
              "        console.error('Error during call to suggestCharts:', error);\n",
              "      }\n",
              "      quickchartButtonEl.classList.remove('colab-df-spinner');\n",
              "      quickchartButtonEl.classList.add('colab-df-quickchart-complete');\n",
              "    }\n",
              "    (() => {\n",
              "      let quickchartButtonEl =\n",
              "        document.querySelector('#df-1053e758-4a58-4ee0-b813-4e3297e39094 button');\n",
              "      quickchartButtonEl.style.display =\n",
              "        google.colab.kernel.accessAllowed ? 'block' : 'none';\n",
              "    })();\n",
              "  </script>\n",
              "</div>\n",
              "\n",
              "  <div id=\"id_4f1a9404-964e-4289-ab63-3244e6c72ee2\">\n",
              "    <style>\n",
              "      .colab-df-generate {\n",
              "        background-color: #E8F0FE;\n",
              "        border: none;\n",
              "        border-radius: 50%;\n",
              "        cursor: pointer;\n",
              "        display: none;\n",
              "        fill: #1967D2;\n",
              "        height: 32px;\n",
              "        padding: 0 0 0 0;\n",
              "        width: 32px;\n",
              "      }\n",
              "\n",
              "      .colab-df-generate:hover {\n",
              "        background-color: #E2EBFA;\n",
              "        box-shadow: 0px 1px 2px rgba(60, 64, 67, 0.3), 0px 1px 3px 1px rgba(60, 64, 67, 0.15);\n",
              "        fill: #174EA6;\n",
              "      }\n",
              "\n",
              "      [theme=dark] .colab-df-generate {\n",
              "        background-color: #3B4455;\n",
              "        fill: #D2E3FC;\n",
              "      }\n",
              "\n",
              "      [theme=dark] .colab-df-generate:hover {\n",
              "        background-color: #434B5C;\n",
              "        box-shadow: 0px 1px 3px 1px rgba(0, 0, 0, 0.15);\n",
              "        filter: drop-shadow(0px 1px 2px rgba(0, 0, 0, 0.3));\n",
              "        fill: #FFFFFF;\n",
              "      }\n",
              "    </style>\n",
              "    <button class=\"colab-df-generate\" onclick=\"generateWithVariable('feature_importance_df')\"\n",
              "            title=\"Generate code using this dataframe.\"\n",
              "            style=\"display:none;\">\n",
              "\n",
              "  <svg xmlns=\"http://www.w3.org/2000/svg\" height=\"24px\"viewBox=\"0 0 24 24\"\n",
              "       width=\"24px\">\n",
              "    <path d=\"M7,19H8.4L18.45,9,17,7.55,7,17.6ZM5,21V16.75L18.45,3.32a2,2,0,0,1,2.83,0l1.4,1.43a1.91,1.91,0,0,1,.58,1.4,1.91,1.91,0,0,1-.58,1.4L9.25,21ZM18.45,9,17,7.55Zm-12,3A5.31,5.31,0,0,0,4.9,8.1,5.31,5.31,0,0,0,1,6.5,5.31,5.31,0,0,0,4.9,4.9,5.31,5.31,0,0,0,6.5,1,5.31,5.31,0,0,0,8.1,4.9,5.31,5.31,0,0,0,12,6.5,5.46,5.46,0,0,0,6.5,12Z\"/>\n",
              "  </svg>\n",
              "    </button>\n",
              "    <script>\n",
              "      (() => {\n",
              "      const buttonEl =\n",
              "        document.querySelector('#id_4f1a9404-964e-4289-ab63-3244e6c72ee2 button.colab-df-generate');\n",
              "      buttonEl.style.display =\n",
              "        google.colab.kernel.accessAllowed ? 'block' : 'none';\n",
              "\n",
              "      buttonEl.onclick = () => {\n",
              "        google.colab.notebook.generateWithVariable('feature_importance_df');\n",
              "      }\n",
              "      })();\n",
              "    </script>\n",
              "  </div>\n",
              "\n",
              "    </div>\n",
              "  </div>\n"
            ],
            "application/vnd.google.colaboratory.intrinsic+json": {
              "type": "dataframe",
              "variable_name": "feature_importance_df",
              "summary": "{\n  \"name\": \"feature_importance_df\",\n  \"rows\": 54,\n  \"fields\": [\n    {\n      \"column\": \"Feature\",\n      \"properties\": {\n        \"dtype\": \"string\",\n        \"num_unique_values\": 54,\n        \"samples\": [\n          \"PL_enq_L12m\",\n          \"num_sub_12mts\",\n          \"num_lss\"\n        ],\n        \"semantic_type\": \"\",\n        \"description\": \"\"\n      }\n    },\n    {\n      \"column\": \"Importance\",\n      \"properties\": {\n        \"dtype\": \"number\",\n        \"std\": 0.0545794410591191,\n        \"min\": 0.0,\n        \"max\": 0.2827325894346211,\n        \"num_unique_values\": 41,\n        \"samples\": [\n          0.0009677118863642208,\n          0.004464840497658732,\n          0.022910846298963193\n        ],\n        \"semantic_type\": \"\",\n        \"description\": \"\"\n      }\n    }\n  ]\n}"
            }
          },
          "metadata": {},
          "execution_count": 122
        }
      ]
    },
    {
      "cell_type": "markdown",
      "source": [
        "**Random forest**"
      ],
      "metadata": {
        "id": "4Icxbo2-9Me0"
      }
    },
    {
      "cell_type": "code",
      "source": [
        "from sklearn.ensemble import RandomForestClassifier\n",
        "# Best parameters for Random Forest\n",
        "best_params_rf = {\n",
        "'n_estimators': 744,\n",
        " 'max_depth': 26,\n",
        " 'min_samples_split': 12,\n",
        " 'min_samples_leaf': 1,\n",
        " 'max_features': 'sqrt'\n",
        "}\n",
        "# Create and train the model\n",
        "rf_classifier = RandomForestClassifier(**best_params_rf, random_state=42)\n",
        "rf_classifier.fit(x_train, y_train)\n",
        "# Predict and evaluate\n",
        "y_pred_rf = rf_classifier.predict(x_test)\n",
        "accuracy_rf = accuracy_score(y_test, y_pred_rf)\n",
        "# print(f\"Random Forest Accuracy: {accuracy_rf}\")\n",
        "# print(classification_report(y_val, y_pred_rf))\n"
      ],
      "metadata": {
        "id": "tWboBFnms3qh"
      },
      "execution_count": 124,
      "outputs": []
    },
    {
      "cell_type": "code",
      "source": [
        "print(f'Accuracy: {accuracy_rf:.5f}')\n",
        "\n",
        "\n",
        "precision, recall, f1_score, _ = precision_recall_fscore_support(y_test, y_pred_rf)\n",
        "\n",
        "for i, v in enumerate(['p1', 'p2', 'p3', 'p4']):\n",
        "    print(f\"Class {v}:\")\n",
        "    print(f\"Precision: {precision[i]}\")\n",
        "    print(f\"Recall: {recall[i]}\")\n",
        "    print(f\"F1 Score: {f1_score[i]}\")\n",
        "    print()"
      ],
      "metadata": {
        "colab": {
          "base_uri": "https://localhost:8080/",
          "height": 0
        },
        "id": "Mlix6xSFs3m8",
        "outputId": "a2b04528-dd0f-477c-ffe6-904caecb98d1"
      },
      "execution_count": 125,
      "outputs": [
        {
          "output_type": "stream",
          "name": "stdout",
          "text": [
            "Accuracy: 0.76501\n",
            "Class p1:\n",
            "Precision: 0.8386714116251482\n",
            "Recall: 0.6972386587771203\n",
            "F1 Score: 0.7614431879375336\n",
            "\n",
            "Class p2:\n",
            "Precision: 0.7939791456441305\n",
            "Recall: 0.9357779980178395\n",
            "F1 Score: 0.8590665089618779\n",
            "\n",
            "Class p3:\n",
            "Precision: 0.44727891156462585\n",
            "Recall: 0.19849056603773585\n",
            "F1 Score: 0.2749607945635128\n",
            "\n",
            "Class p4:\n",
            "Precision: 0.7191119691119691\n",
            "Recall: 0.7240038872691934\n",
            "F1 Score: 0.721549636803874\n",
            "\n"
          ]
        }
      ]
    },
    {
      "cell_type": "code",
      "source": [
        "# # Perform cross-validation with appropriate metrics\n",
        "# cv_scores_accuracy = cross_val_score(rf_classifier, x, y, cv=5, scoring='accuracy')\n",
        "# cv_scores_log_loss = cross_val_score(rf_classifier, x, y, cv=5, scoring='neg_log_loss')\n",
        "# cv_scores_f1_macro = cross_val_score(rf_classifier, x, y, cv=5, scoring='f1_macro')\n",
        "# print(f\"Cross-Validation Accuracy Scores: {cv_scores_accuracy}\")\n",
        "# print(f\"Mean CV Accuracy Score: {np.mean(cv_scores_accuracy)}\")\n",
        "# print(f\"Cross-Validation Log Loss Scores: {cv_scores_log_loss}\")\n",
        "# print(f\"Mean CV Log Loss Score: {np.mean(cv_scores_log_loss)}\")\n",
        "# print(f\"Cross-Validation F1 Macro Scores: {cv_scores_f1_macro}\")\n",
        "# print(f\"Mean CV F1 Macro Score: {np.mean(cv_scores_f1_macro)}\")"
      ],
      "metadata": {
        "id": "lqgVeF7Ts3jQ"
      },
      "execution_count": 251,
      "outputs": []
    },
    {
      "cell_type": "code",
      "source": [
        "# Feature importances\n",
        "feature_importance = rf_classifier.feature_importances_\n",
        "feature_importance_df = pd.DataFrame({'Feature': x.columns, 'Importance': feature_importance})\n",
        "feature_importance_df = feature_importance_df.sort_values(by='Importance', ascending=False)\n",
        "plt.figure(figsize=(12, 10))\n",
        "sns.barplot(x='Importance', y='Feature', data=feature_importance_df)\n",
        "plt.title('Feature Importance - Decision Tree')\n",
        "plt.xlabel('Importance')\n",
        "plt.ylabel('')\n",
        "sns.despine(left=True, bottom=True)\n",
        "plt.show()"
      ],
      "metadata": {
        "id": "kkp-DvATs3fq"
      },
      "execution_count": null,
      "outputs": []
    },
    {
      "cell_type": "markdown",
      "source": [
        "**Light BGM**"
      ],
      "metadata": {
        "id": "hR6xm9wp-v8b"
      }
    },
    {
      "cell_type": "code",
      "source": [
        "from lightgbm import LGBMClassifier\n",
        "# Best parameters for LightGBM\n",
        "best_params_lgbm = {\n",
        " \"objective\": \"multiclass\",\n",
        " \"metric\": \"multi_logloss\",\n",
        " \"verbosity\": -1,\n",
        " \"boosting_type\": \"gbdt\",\n",
        " \"random_state\": 42,\n",
        " \"num_class\": 7,\n",
        " 'learning_rate': 0.011978527382971352,\n",
        " 'n_estimators': 509,\n",
        " 'lambda_l1': 0.009715116714365276,\n",
        " 'lambda_l2': 0.03853395161282091,\n",
        " 'max_depth': 11,\n",
        " 'colsample_bytree': 0.7364306508830605,\n",
        " 'subsample': 0.9529973839959326,\n",
        " 'min_child_samples': 17\n",
        "}\n",
        "# Create and train the model\n",
        "lgbm_classifier = LGBMClassifier(**best_params_lgbm)\n",
        "lgbm_classifier.fit(x_train, y_train)\n",
        "# Predict and evaluate\n",
        "y_pred_lgbm = lgbm_classifier.predict(x_test)\n",
        "accuracy_lgbm = accuracy_score(y_test, y_pred_lgbm)\n"
      ],
      "metadata": {
        "id": "MEP3lfpss3ce"
      },
      "execution_count": 129,
      "outputs": []
    },
    {
      "cell_type": "code",
      "source": [
        "print(f'Accuracy: {accuracy_lgbm:.5f}')\n",
        "\n",
        "\n",
        "precision, recall, f1_score, _ = precision_recall_fscore_support(y_test, y_pred_lgbm)\n",
        "\n",
        "for i, v in enumerate(['p1', 'p2', 'p3', 'p4']):\n",
        "    print(f\"Class {v}:\")\n",
        "    print(f\"Precision: {precision[i]}\")\n",
        "    print(f\"Recall: {recall[i]}\")\n",
        "    print(f\"F1 Score: {f1_score[i]}\")\n",
        "    print()"
      ],
      "metadata": {
        "colab": {
          "base_uri": "https://localhost:8080/",
          "height": 0
        },
        "id": "s3HReznDs3Y7",
        "outputId": "6dc47a7a-c554-4ac0-ba99-c6850367b8c8"
      },
      "execution_count": 130,
      "outputs": [
        {
          "output_type": "stream",
          "name": "stdout",
          "text": [
            "Accuracy: 0.77939\n",
            "Class p1:\n",
            "Precision: 0.8417653390742734\n",
            "Recall: 0.7712031558185405\n",
            "F1 Score: 0.8049408131755019\n",
            "\n",
            "Class p2:\n",
            "Precision: 0.8200070447340613\n",
            "Recall: 0.9228939544103072\n",
            "F1 Score: 0.8684136901986383\n",
            "\n",
            "Class p3:\n",
            "Precision: 0.46062992125984253\n",
            "Recall: 0.26490566037735847\n",
            "F1 Score: 0.33636799233349307\n",
            "\n",
            "Class p4:\n",
            "Precision: 0.735632183908046\n",
            "Recall: 0.7463556851311953\n",
            "F1 Score: 0.7409551374819103\n",
            "\n"
          ]
        }
      ]
    },
    {
      "cell_type": "code",
      "source": [
        "# prompt: code for confusion matrix\n",
        "\n",
        "from sklearn.metrics import confusion_matrix\n",
        "import seaborn as sns\n",
        "import matplotlib.pyplot as plt\n",
        "\n",
        "# Assuming 'y_test' and 'y_pred' are your true and predicted labels respectively\n",
        "conf_matrix = confusion_matrix(y_test, y_pred_lgbm)\n",
        "\n",
        "# Plot the confusion matrix\n",
        "plt.figure(figsize=(8, 6))\n",
        "sns.heatmap(conf_matrix, annot=True, fmt='d', cmap='Blues',\n",
        "            xticklabels=['p1', 'p2', 'p3', 'p4'],\n",
        "            yticklabels=['p1', 'p2', 'p3', 'p4'])\n",
        "plt.xlabel('Predicted')\n",
        "plt.ylabel('True')\n",
        "plt.title('Confusion Matrix')\n",
        "plt.show()\n"
      ],
      "metadata": {
        "colab": {
          "base_uri": "https://localhost:8080/",
          "height": 564
        },
        "id": "qEbV0YnW_aYG",
        "outputId": "2bc74c31-367a-40dd-9ee6-00a13e7b9fe5"
      },
      "execution_count": 133,
      "outputs": [
        {
          "output_type": "display_data",
          "data": {
            "text/plain": [
              "<Figure size 800x600 with 2 Axes>"
            ],
            "image/png": "[encoded data removed]"
          },
          "metadata": {}
        }
      ]
    }
  ]
}